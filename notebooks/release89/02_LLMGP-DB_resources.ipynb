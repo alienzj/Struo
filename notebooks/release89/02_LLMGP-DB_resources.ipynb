{
 "cells": [
  {
   "cell_type": "markdown",
   "metadata": {
    "toc": true
   },
   "source": [
    "<h1>Table of Contents<span class=\"tocSkip\"></span></h1>\n",
    "<div class=\"toc\"><ul class=\"toc-item\"><li><span><a href=\"#Goal\" data-toc-modified-id=\"Goal-1\"><span class=\"toc-item-num\">1&nbsp;&nbsp;</span>Goal</a></span></li><li><span><a href=\"#Var\" data-toc-modified-id=\"Var-2\"><span class=\"toc-item-num\">2&nbsp;&nbsp;</span>Var</a></span></li><li><span><a href=\"#Init\" data-toc-modified-id=\"Init-3\"><span class=\"toc-item-num\">3&nbsp;&nbsp;</span>Init</a></span></li><li><span><a href=\"#Load\" data-toc-modified-id=\"Load-4\"><span class=\"toc-item-num\">4&nbsp;&nbsp;</span>Load</a></span></li><li><span><a href=\"#Summary\" data-toc-modified-id=\"Summary-5\"><span class=\"toc-item-num\">5&nbsp;&nbsp;</span>Summary</a></span></li><li><span><a href=\"#sessionInfo\" data-toc-modified-id=\"sessionInfo-6\"><span class=\"toc-item-num\">6&nbsp;&nbsp;</span>sessionInfo</a></span></li></ul></div>"
   ]
  },
  {
   "cell_type": "markdown",
   "metadata": {},
   "source": [
    "# Goal\n",
    "\n",
    "* summarize the computational resources required for the `LLMGP-DB` Fall 2019 run\n",
    "  * GTDB release 89"
   ]
  },
  {
   "cell_type": "markdown",
   "metadata": {},
   "source": [
    "# Var"
   ]
  },
  {
   "cell_type": "code",
   "execution_count": 1,
   "metadata": {
    "ExecuteTime": {
     "end_time": "2019-10-18T10:27:44.914818Z",
     "start_time": "2019-10-18T10:27:44.489Z"
    }
   },
   "outputs": [],
   "source": [
    "work_dir = '/ebio/abt3_projects/databases_no-backup/GTDB/release89/LLMGP-DB/benchmarks/'"
   ]
  },
  {
   "cell_type": "markdown",
   "metadata": {},
   "source": [
    "# Init"
   ]
  },
  {
   "cell_type": "code",
   "execution_count": null,
   "metadata": {
    "ExecuteTime": {
     "end_time": "2019-04-24T10:26:29.554992Z",
     "start_time": "2019-04-24T10:26:23.112Z"
    }
   },
   "outputs": [],
   "source": [
    "library(dplyr)\n",
    "library(tidyr)\n",
    "library(ggplot2)"
   ]
  },
  {
   "cell_type": "markdown",
   "metadata": {},
   "source": [
    "# Load"
   ]
  },
  {
   "cell_type": "code",
   "execution_count": null,
   "metadata": {
    "ExecuteTime": {
     "end_time": "2019-04-24T10:38:32.326886Z",
     "start_time": "2019-04-24T10:37:46.439Z"
    }
   },
   "outputs": [],
   "source": [
    "# listing all benchmarking files\n",
    "files = list.files(work_dir, '*.txt', full.names = TRUE, recursive = TRUE)\n",
    "files %>% length"
   ]
  },
  {
   "cell_type": "code",
   "execution_count": null,
   "metadata": {
    "ExecuteTime": {
     "start_time": "2019-04-24T10:40:21.200Z"
    }
   },
   "outputs": [],
   "source": [
    "# loading and formatting\n",
    "F1 = function(x){\n",
    "    x = as.character(x)\n",
    "    y = ifelse(x == '-', NA, x)\n",
    "    y = ifelse(y == 'NA', NA, y)\n",
    "    return(y)\n",
    "}\n",
    "\n",
    "df = lapply(as.list(files), function(x) read.delim(x, sep='\\t')) %>%\n",
    "    do.call(rbind, .) %>%\n",
    "    mutate_all(funs(F1))\n",
    "            \n",
    "df %>% head"
   ]
  },
  {
   "cell_type": "markdown",
   "metadata": {},
   "source": [
    "# Summary"
   ]
  },
  {
   "cell_type": "code",
   "execution_count": null,
   "metadata": {
    "ExecuteTime": {
     "end_time": "2019-04-27T09:06:14.278119Z",
     "start_time": "2019-04-27T09:06:13.961Z"
    }
   },
   "outputs": [],
   "source": [
    "df %>% summary"
   ]
  },
  {
   "cell_type": "code",
   "execution_count": null,
   "metadata": {
    "ExecuteTime": {
     "end_time": "2019-04-27T09:10:20.101203Z",
     "start_time": "2019-04-27T09:10:19.854Z"
    }
   },
   "outputs": [],
   "source": [
    "# CPU hours\n",
    "cpu_hours = df$s %>% as.character %>% as.numeric %>% sum(na.rm=TRUE)\n",
    "cpu_hours = cpu_hours / 360\n",
    "cpu_hours"
   ]
  },
  {
   "cell_type": "code",
   "execution_count": null,
   "metadata": {
    "ExecuteTime": {
     "end_time": "2019-04-27T09:06:16.440559Z",
     "start_time": "2019-04-27T09:06:16.263Z"
    }
   },
   "outputs": [],
   "source": [
    "# max memory\n",
    "max_mem = df$max_vms %>% as.character %>% as.numeric %>% sum(na.rm=TRUE)\n",
    "max_mem"
   ]
  },
  {
   "cell_type": "code",
   "execution_count": null,
   "metadata": {
    "ExecuteTime": {
     "end_time": "2019-04-27T09:06:16.492963Z",
     "start_time": "2019-04-27T09:06:16.406Z"
    }
   },
   "outputs": [],
   "source": [
    "# IO\n",
    "io_in = df$io_in %>% as.character %>% as.numeric %>% sum(na.rm=TRUE)\n",
    "io_in %>% print\n",
    "\n",
    "io_out = df$io_out %>% as.character %>% as.numeric %>% sum(na.rm=TRUE)\n",
    "io_out %>% print"
   ]
  },
  {
   "cell_type": "markdown",
   "metadata": {},
   "source": [
    "# sessionInfo"
   ]
  },
  {
   "cell_type": "code",
   "execution_count": null,
   "metadata": {
    "ExecuteTime": {
     "end_time": "2019-04-27T09:06:18.078759Z",
     "start_time": "2019-04-27T09:06:17.807Z"
    }
   },
   "outputs": [],
   "source": [
    "sessionInfo()"
   ]
  },
  {
   "cell_type": "code",
   "execution_count": null,
   "metadata": {},
   "outputs": [],
   "source": []
  }
 ],
 "metadata": {
  "kernelspec": {
   "display_name": "R [conda env:py3_physeq]",
   "language": "R",
   "name": "conda-env-py3_physeq-r"
  },
  "language_info": {
   "codemirror_mode": "r",
   "file_extension": ".r",
   "mimetype": "text/x-r-source",
   "name": "R",
   "pygments_lexer": "r",
   "version": "3.4.1"
  },
  "notify_time": "30",
  "toc": {
   "base_numbering": 1,
   "nav_menu": {},
   "number_sections": true,
   "sideBar": true,
   "skip_h1_title": false,
   "title_cell": "Table of Contents",
   "title_sidebar": "Contents",
   "toc_cell": true,
   "toc_position": {},
   "toc_section_display": true,
   "toc_window_display": false
  }
 },
 "nbformat": 4,
 "nbformat_minor": 2
}
