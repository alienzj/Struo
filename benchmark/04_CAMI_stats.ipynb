{
 "cells": [
  {
   "cell_type": "markdown",
   "metadata": {},
   "source": [
    "# Goal\n",
    "\n",
    "The aim of this notebook is to compare the mappability of profiles obtained with the different databases on CAMI challenge data"
   ]
  },
  {
   "cell_type": "markdown",
   "metadata": {},
   "source": [
    "# Init"
   ]
  },
  {
   "cell_type": "code",
   "execution_count": 1,
   "metadata": {
    "ExecuteTime": {
     "end_time": "2019-09-11T08:26:39.469366Z",
     "start_time": "2019-09-11T08:26:21.207Z"
    }
   },
   "outputs": [
    {
     "name": "stderr",
     "output_type": "stream",
     "text": [
      "Loading tidyverse: ggplot2\n",
      "Loading tidyverse: tibble\n",
      "Loading tidyverse: tidyr\n",
      "Loading tidyverse: readr\n",
      "Loading tidyverse: purrr\n",
      "Loading tidyverse: dplyr\n",
      "Warning message:\n",
      "“package ‘ggplot2’ was built under R version 3.4.3”Warning message:\n",
      "“package ‘tibble’ was built under R version 3.4.3”Warning message:\n",
      "“package ‘tidyr’ was built under R version 3.4.3”Warning message:\n",
      "“package ‘purrr’ was built under R version 3.4.3”Warning message:\n",
      "“package ‘dplyr’ was built under R version 3.4.3”Conflicts with tidy packages ---------------------------------------------------\n",
      "filter(): dplyr, stats\n",
      "lag():    dplyr, stats\n",
      "Warning message:\n",
      "“package ‘stringr’ was built under R version 3.4.3”\n",
      "Attaching package: ‘cowplot’\n",
      "\n",
      "The following object is masked from ‘package:ggplot2’:\n",
      "\n",
      "    ggsave\n",
      "\n",
      "Warning message:\n",
      "“package ‘data.table’ was built under R version 3.4.3”\n",
      "Attaching package: ‘data.table’\n",
      "\n",
      "The following objects are masked from ‘package:dplyr’:\n",
      "\n",
      "    between, first, last\n",
      "\n",
      "The following object is masked from ‘package:purrr’:\n",
      "\n",
      "    transpose\n",
      "\n",
      "Warning message:\n",
      "“package ‘glue’ was built under R version 3.4.3”\n",
      "Attaching package: ‘glue’\n",
      "\n",
      "The following object is masked from ‘package:dplyr’:\n",
      "\n",
      "    collapse\n",
      "\n"
     ]
    }
   ],
   "source": [
    "library(tidyverse)\n",
    "library(stringr)\n",
    "library(forcats)\n",
    "library(cowplot)\n",
    "library(data.table)\n",
    "library(glue)"
   ]
  },
  {
   "cell_type": "markdown",
   "metadata": {},
   "source": [
    "# Var"
   ]
  },
  {
   "cell_type": "code",
   "execution_count": 2,
   "metadata": {
    "ExecuteTime": {
     "end_time": "2019-09-11T08:26:40.097840Z",
     "start_time": "2019-09-11T08:26:21.213Z"
    }
   },
   "outputs": [],
   "source": [
    "work_dir = \"/ebio/abt3_projects/Struo/struo_benchmark/data/profiles_cami\""
   ]
  },
  {
   "cell_type": "markdown",
   "metadata": {},
   "source": [
    "## Dataframe with Kraken classification reads"
   ]
  },
  {
   "cell_type": "code",
   "execution_count": 3,
   "metadata": {
    "ExecuteTime": {
     "end_time": "2019-09-11T08:26:40.236731Z",
     "start_time": "2019-09-11T08:26:21.217Z"
    }
   },
   "outputs": [],
   "source": [
    "# Kraken proportion of reads mapped\n",
    "database = c(\"GTDB\", \"progenomes\", \"defaults\")\n",
    "kraken_logs = map(database, \n",
    "                  function(x) file.path(work_dir, x, \"logs/kraken\") %>% \n",
    "                  list.files(., full.names = T)) %>% unlist"
   ]
  },
  {
   "cell_type": "code",
   "execution_count": 4,
   "metadata": {
    "ExecuteTime": {
     "end_time": "2019-09-11T08:26:40.271996Z",
     "start_time": "2019-09-11T08:26:21.219Z"
    }
   },
   "outputs": [],
   "source": [
    "read_klog = function(path){\n",
    "    \n",
    "    # Sample community name\n",
    "    community_name = path %>%\n",
    "        basename %>%\n",
    "        str_replace(., \".log\", \"\")\n",
    "\n",
    "    # Database\n",
    "    db = path %>%\n",
    "        str_split(\"/\", simplify = T) %>%\n",
    "        nth(8)\n",
    "    # Read file line by line\n",
    "    # Keep lines with classified and unclassified reads\n",
    "    # create table with data for each sample\n",
    "    readLines(path) %>%\n",
    "        data.frame(txt = .) %>%\n",
    "        tail(., n=2) %>%\n",
    "        separate(txt, into = c(\"seqs\", \"category\"), sep = \"sequences\") %>%\n",
    "        mutate(seqs = as.numeric(seqs), \n",
    "               category = c(\"classified\", \"unclassified\"), \n",
    "               community = rep(community_name, 2), \n",
    "               database = rep(db, 2))\n",
    "}\n",
    "\n"
   ]
  },
  {
   "cell_type": "code",
   "execution_count": 5,
   "metadata": {
    "ExecuteTime": {
     "end_time": "2019-09-11T08:26:41.606344Z",
     "start_time": "2019-09-11T08:26:21.222Z"
    }
   },
   "outputs": [
    {
     "name": "stderr",
     "output_type": "stream",
     "text": [
      "Warning message:\n",
      "“package ‘bindrcpp’ was built under R version 3.4.3”"
     ]
    },
    {
     "data": {
      "text/html": [
       "<table>\n",
       "<thead><tr><th scope=col>seqs</th><th scope=col>category</th><th scope=col>community</th><th scope=col>database</th></tr></thead>\n",
       "<tbody>\n",
       "\t<tr><td>50298874    </td><td>classified  </td><td>H_S001      </td><td>GTDB        </td></tr>\n",
       "\t<tr><td> 4518655    </td><td>unclassified</td><td>H_S001      </td><td>GTDB        </td></tr>\n",
       "\t<tr><td>48738068    </td><td>classified  </td><td>H_S001      </td><td>progenomes  </td></tr>\n",
       "\t<tr><td> 6079461    </td><td>unclassified</td><td>H_S001      </td><td>progenomes  </td></tr>\n",
       "\t<tr><td>43156176    </td><td>classified  </td><td>H_S001      </td><td>defaults    </td></tr>\n",
       "\t<tr><td>11661353    </td><td>unclassified</td><td>H_S001      </td><td>defaults    </td></tr>\n",
       "</tbody>\n",
       "</table>\n"
      ],
      "text/latex": [
       "\\begin{tabular}{r|llll}\n",
       " seqs & category & community & database\\\\\n",
       "\\hline\n",
       "\t 50298874     & classified   & H\\_S001     & GTDB        \\\\\n",
       "\t  4518655     & unclassified & H\\_S001     & GTDB        \\\\\n",
       "\t 48738068     & classified   & H\\_S001     & progenomes  \\\\\n",
       "\t  6079461     & unclassified & H\\_S001     & progenomes  \\\\\n",
       "\t 43156176     & classified   & H\\_S001     & defaults    \\\\\n",
       "\t 11661353     & unclassified & H\\_S001     & defaults    \\\\\n",
       "\\end{tabular}\n"
      ],
      "text/markdown": [
       "\n",
       "seqs | category | community | database | \n",
       "|---|---|---|---|---|---|\n",
       "| 50298874     | classified   | H_S001       | GTDB         | \n",
       "|  4518655     | unclassified | H_S001       | GTDB         | \n",
       "| 48738068     | classified   | H_S001       | progenomes   | \n",
       "|  6079461     | unclassified | H_S001       | progenomes   | \n",
       "| 43156176     | classified   | H_S001       | defaults     | \n",
       "| 11661353     | unclassified | H_S001       | defaults     | \n",
       "\n",
       "\n"
      ],
      "text/plain": [
       "  seqs     category     community database  \n",
       "1 50298874 classified   H_S001    GTDB      \n",
       "2  4518655 unclassified H_S001    GTDB      \n",
       "3 48738068 classified   H_S001    progenomes\n",
       "4  6079461 unclassified H_S001    progenomes\n",
       "5 43156176 classified   H_S001    defaults  \n",
       "6 11661353 unclassified H_S001    defaults  "
      ]
     },
     "metadata": {},
     "output_type": "display_data"
    }
   ],
   "source": [
    "kraken_classified_complete = map_df(kraken_logs, function(x) read_klog(x)) %>% \n",
    "                           arrange(community)\n",
    "                           \n",
    "kraken_classified_complete %>% head"
   ]
  },
  {
   "cell_type": "code",
   "execution_count": 6,
   "metadata": {
    "ExecuteTime": {
     "end_time": "2019-09-11T08:26:41.817926Z",
     "start_time": "2019-09-11T08:26:21.225Z"
    }
   },
   "outputs": [
    {
     "data": {
      "text/html": [
       "<table>\n",
       "<thead><tr><th scope=col>seqs</th><th scope=col>category</th><th scope=col>community</th><th scope=col>database</th><th scope=col>proportion</th></tr></thead>\n",
       "<tbody>\n",
       "\t<tr><td>50298874  </td><td>classified</td><td>H_S001    </td><td>GTDB      </td><td>91.76     </td></tr>\n",
       "\t<tr><td>48738068  </td><td>classified</td><td>H_S001    </td><td>proGenomes</td><td>88.91     </td></tr>\n",
       "\t<tr><td>43156176  </td><td>classified</td><td>H_S001    </td><td>RefSeq    </td><td>78.73     </td></tr>\n",
       "\t<tr><td>50459497  </td><td>classified</td><td>H_S002    </td><td>GTDB      </td><td>92.05     </td></tr>\n",
       "\t<tr><td>48748854  </td><td>classified</td><td>H_S002    </td><td>proGenomes</td><td>88.93     </td></tr>\n",
       "\t<tr><td>43009456  </td><td>classified</td><td>H_S002    </td><td>RefSeq    </td><td>78.46     </td></tr>\n",
       "</tbody>\n",
       "</table>\n"
      ],
      "text/latex": [
       "\\begin{tabular}{r|lllll}\n",
       " seqs & category & community & database & proportion\\\\\n",
       "\\hline\n",
       "\t 50298874   & classified & H\\_S001   & GTDB       & 91.76     \\\\\n",
       "\t 48738068   & classified & H\\_S001   & proGenomes & 88.91     \\\\\n",
       "\t 43156176   & classified & H\\_S001   & RefSeq     & 78.73     \\\\\n",
       "\t 50459497   & classified & H\\_S002   & GTDB       & 92.05     \\\\\n",
       "\t 48748854   & classified & H\\_S002   & proGenomes & 88.93     \\\\\n",
       "\t 43009456   & classified & H\\_S002   & RefSeq     & 78.46     \\\\\n",
       "\\end{tabular}\n"
      ],
      "text/markdown": [
       "\n",
       "seqs | category | community | database | proportion | \n",
       "|---|---|---|---|---|---|\n",
       "| 50298874   | classified | H_S001     | GTDB       | 91.76      | \n",
       "| 48738068   | classified | H_S001     | proGenomes | 88.91      | \n",
       "| 43156176   | classified | H_S001     | RefSeq     | 78.73      | \n",
       "| 50459497   | classified | H_S002     | GTDB       | 92.05      | \n",
       "| 48748854   | classified | H_S002     | proGenomes | 88.93      | \n",
       "| 43009456   | classified | H_S002     | RefSeq     | 78.46      | \n",
       "\n",
       "\n"
      ],
      "text/plain": [
       "  seqs     category   community database   proportion\n",
       "1 50298874 classified H_S001    GTDB       91.76     \n",
       "2 48738068 classified H_S001    proGenomes 88.91     \n",
       "3 43156176 classified H_S001    RefSeq     78.73     \n",
       "4 50459497 classified H_S002    GTDB       92.05     \n",
       "5 48748854 classified H_S002    proGenomes 88.93     \n",
       "6 43009456 classified H_S002    RefSeq     78.46     "
      ]
     },
     "metadata": {},
     "output_type": "display_data"
    }
   ],
   "source": [
    "kraken_classified = kraken_classified_complete %>% \n",
    "    group_by(database, community) %>%\n",
    "    mutate(sum = sum(seqs)) %>% \n",
    "    ungroup %>%\n",
    "    mutate(proportion = round((seqs/sum)* 100, 2)) %>%\n",
    "    select(-sum) %>%\n",
    "    filter(category == \"classified\") %>%\n",
    "    arrange(community, -proportion) %>%\n",
    "    mutate(database = fct_recode(database, RefSeq = \"defaults\", proGenomes = \"progenomes\")) %>%\n",
    "    mutate(database = fct_relevel(database, c(\"RefSeq\", \"proGenomes\", \"GTDB\")))\n",
    "kraken_classified %>% head"
   ]
  },
  {
   "cell_type": "markdown",
   "metadata": {},
   "source": [
    "## Read Bracken logs"
   ]
  },
  {
   "cell_type": "code",
   "execution_count": 7,
   "metadata": {
    "ExecuteTime": {
     "end_time": "2019-09-11T08:26:41.942043Z",
     "start_time": "2019-09-11T08:26:21.228Z"
    }
   },
   "outputs": [],
   "source": [
    "# Kraken proportion of reads mapped\n",
    "database = c(\"GTDB\", \"progenomes\", \"defaults\")\n",
    "bracken_logs = map(database, \n",
    "                  function(x) file.path(work_dir, x, \"logs/bracken\") %>% \n",
    "                  list.files(., full.names = T)) %>% unlist"
   ]
  },
  {
   "cell_type": "code",
   "execution_count": 8,
   "metadata": {
    "ExecuteTime": {
     "end_time": "2019-09-11T08:26:41.984818Z",
     "start_time": "2019-09-11T08:26:21.230Z"
    }
   },
   "outputs": [],
   "source": [
    "read_blog = function(path){\n",
    "    \n",
    "    # Synth community name\n",
    "    community_name = path %>%\n",
    "        basename %>%\n",
    "        str_replace(., \".log\", \"\")\n",
    "\n",
    "    # Database\n",
    "    db = path %>%\n",
    "        str_split(\"/\", simplify = T) %>%\n",
    "        nth(8)\n",
    "    \n",
    "    \n",
    "    # Read file line by line\n",
    "    # Keep lines with total and used reads at the species level\n",
    "    # create table with data for each sample\n",
    "    readLines(path) %>%\n",
    "        data.frame(txt = .) %>%\n",
    "        filter(str_detect(txt,\" Total reads in sample\") | str_detect(txt,\"Total reads kept\")) %>%\n",
    "        separate(txt, into = c(\"txt\", \"seqs\"), sep = \":\") %>%\n",
    "        select(\"seqs\") %>% \n",
    "        mutate(seqs = as.numeric(seqs), \n",
    "               category = c(\"Total\", \"Used\"), \n",
    "               community = rep(community_name, 2), \n",
    "               database = rep(db, 2))\n",
    "}"
   ]
  },
  {
   "cell_type": "code",
   "execution_count": 9,
   "metadata": {
    "ExecuteTime": {
     "end_time": "2019-09-11T08:26:43.046410Z",
     "start_time": "2019-09-11T08:26:21.234Z"
    }
   },
   "outputs": [
    {
     "data": {
      "text/html": [
       "<table>\n",
       "<thead><tr><th scope=col>seqs</th><th scope=col>category</th><th scope=col>community</th><th scope=col>database</th></tr></thead>\n",
       "<tbody>\n",
       "\t<tr><td>54817529  </td><td>Total     </td><td>H_S001    </td><td>GTDB      </td></tr>\n",
       "\t<tr><td>45994859  </td><td>Used      </td><td>H_S001    </td><td>GTDB      </td></tr>\n",
       "\t<tr><td>54817529  </td><td>Total     </td><td>H_S001    </td><td>proGenomes</td></tr>\n",
       "\t<tr><td>46466500  </td><td>Used      </td><td>H_S001    </td><td>proGenomes</td></tr>\n",
       "\t<tr><td>54817529  </td><td>Total     </td><td>H_S001    </td><td>RefSeq    </td></tr>\n",
       "\t<tr><td>32420496  </td><td>Used      </td><td>H_S001    </td><td>RefSeq    </td></tr>\n",
       "</tbody>\n",
       "</table>\n"
      ],
      "text/latex": [
       "\\begin{tabular}{r|llll}\n",
       " seqs & category & community & database\\\\\n",
       "\\hline\n",
       "\t 54817529   & Total      & H\\_S001   & GTDB      \\\\\n",
       "\t 45994859   & Used       & H\\_S001   & GTDB      \\\\\n",
       "\t 54817529   & Total      & H\\_S001   & proGenomes\\\\\n",
       "\t 46466500   & Used       & H\\_S001   & proGenomes\\\\\n",
       "\t 54817529   & Total      & H\\_S001   & RefSeq    \\\\\n",
       "\t 32420496   & Used       & H\\_S001   & RefSeq    \\\\\n",
       "\\end{tabular}\n"
      ],
      "text/markdown": [
       "\n",
       "seqs | category | community | database | \n",
       "|---|---|---|---|---|---|\n",
       "| 54817529   | Total      | H_S001     | GTDB       | \n",
       "| 45994859   | Used       | H_S001     | GTDB       | \n",
       "| 54817529   | Total      | H_S001     | proGenomes | \n",
       "| 46466500   | Used       | H_S001     | proGenomes | \n",
       "| 54817529   | Total      | H_S001     | RefSeq     | \n",
       "| 32420496   | Used       | H_S001     | RefSeq     | \n",
       "\n",
       "\n"
      ],
      "text/plain": [
       "  seqs     category community database  \n",
       "1 54817529 Total    H_S001    GTDB      \n",
       "2 45994859 Used     H_S001    GTDB      \n",
       "3 54817529 Total    H_S001    proGenomes\n",
       "4 46466500 Used     H_S001    proGenomes\n",
       "5 54817529 Total    H_S001    RefSeq    \n",
       "6 32420496 Used     H_S001    RefSeq    "
      ]
     },
     "metadata": {},
     "output_type": "display_data"
    }
   ],
   "source": [
    "bracken_used_complete = map_df(bracken_logs, function(x) read_blog(x)) %>% \n",
    "    arrange(community) %>%\n",
    "    mutate(database = fct_recode(database, RefSeq = \"defaults\", proGenomes = \"progenomes\")) %>%\n",
    "    mutate(database = fct_relevel(database, c(\"RefSeq\", \"proGenomes\", \"GTDB\")))\n",
    "                           \n",
    "bracken_used_complete %>% head"
   ]
  },
  {
   "cell_type": "markdown",
   "metadata": {},
   "source": [
    "## Bracken species table"
   ]
  },
  {
   "cell_type": "code",
   "execution_count": 10,
   "metadata": {
    "ExecuteTime": {
     "end_time": "2019-09-11T08:26:43.079482Z",
     "start_time": "2019-09-11T08:26:21.236Z"
    }
   },
   "outputs": [],
   "source": [
    "bracken_tables = function(file_path){\n",
    "    tax_levels = c(\"Domain\", \"Phylum\", \"Class\",\n",
    "                   \"Orden\", \"Family\", \"Genus\", \"Species\")\n",
    "    \n",
    "    id_ranks = c(\"id_cellular\", \"id_Domain\", \"id_Phylum\", \"id_Class\",\n",
    "               \"id_Order\", \"id_Family\", \"id_Genus\",\n",
    "               \"id_Species\")  \n",
    "    \n",
    "    # Read table, select columns and separate taxonomy\n",
    "    tbl_raw = read_delim(file_path, delim = \"\\t\") %>%\n",
    "        select(-c(name, taxonomy_lvl)) %>%\n",
    "        separate(taxonomy, into = tax_levels, sep = \";\") %>%\n",
    "        separate(taxIDs, into = id_ranks, sep = \";\") %>%\n",
    "        select(-id_cellular)\n",
    "        \n",
    "    \n",
    "    # Create fractiion and count tables\n",
    "    # Raw counts\n",
    "    tbl_count = tbl_raw %>% \n",
    "        select(-ends_with(\"_frac\"))\n",
    "    \n",
    "    # Relative abudnances\n",
    "    tbl_fraction = tbl_raw %>% \n",
    "        select(-ends_with(\"_num\")) \n",
    "    \n",
    "    percentages = tbl_fraction %>% \n",
    "        select(ends_with(\"_frac\")) %>%\n",
    "        (function(x) (x * 100))\n",
    "         \n",
    "    tbl_fraction = tbl_fraction %>% \n",
    "        select(-ends_with(\"_frac\")) %>%\n",
    "        bind_cols(percentages)\n",
    "        \n",
    "    \n",
    "    list(relabund = tbl_fraction, count = tbl_count)\n",
    "}"
   ]
  },
  {
   "cell_type": "code",
   "execution_count": 11,
   "metadata": {
    "ExecuteTime": {
     "end_time": "2019-09-11T08:26:43.117303Z",
     "start_time": "2019-09-11T08:26:21.239Z"
    }
   },
   "outputs": [],
   "source": [
    "# Paths\n",
    "defaults_bracken_path = file.path(work_dir, \"defaults/kraken/all-combined-bracken.tsv\")\n",
    "progenomes_bracken_path = file.path(work_dir, \"progenomes/kraken/all-combined-bracken.tsv\")\n",
    "gtdb_bracken_path = file.path(work_dir, \"GTDB/kraken/all-combined-bracken.tsv\")\n"
   ]
  },
  {
   "cell_type": "code",
   "execution_count": 12,
   "metadata": {
    "ExecuteTime": {
     "end_time": "2019-09-11T08:26:45.223354Z",
     "start_time": "2019-09-11T08:26:21.241Z"
    }
   },
   "outputs": [
    {
     "name": "stderr",
     "output_type": "stream",
     "text": [
      "Parsed with column specification:\n",
      "cols(\n",
      "  name = col_character(),\n",
      "  taxonomy_id = col_integer(),\n",
      "  taxonomy_lvl = col_character(),\n",
      "  taxonomy = col_character(),\n",
      "  taxIDs = col_character(),\n",
      "  H_S001_num = col_integer(),\n",
      "  H_S001_frac = col_double(),\n",
      "  H_S002_num = col_integer(),\n",
      "  H_S002_frac = col_double(),\n",
      "  H_S003_num = col_integer(),\n",
      "  H_S003_frac = col_double(),\n",
      "  H_S004_num = col_integer(),\n",
      "  H_S004_frac = col_double(),\n",
      "  H_S005_num = col_integer(),\n",
      "  H_S005_frac = col_double()\n",
      ")\n",
      "Warning message:\n",
      "“Too many values at 2051 locations: 3, 6, 7, 8, 9, 13, 14, 16, 17, 18, 19, 21, 23, 25, 26, 27, 28, 29, 30, 31, ...”Warning message:\n",
      "“Too few values at 34 locations: 296, 345, 383, 491, 648, 696, 856, 886, 1000, 1016, 1099, 1287, 1384, 1510, 1534, 1640, 1754, 2019, 2024, 2107, ...”Parsed with column specification:\n",
      "cols(\n",
      "  name = col_character(),\n",
      "  taxonomy_id = col_integer(),\n",
      "  taxonomy_lvl = col_character(),\n",
      "  taxonomy = col_character(),\n",
      "  taxIDs = col_character(),\n",
      "  H_S001_num = col_integer(),\n",
      "  H_S001_frac = col_double(),\n",
      "  H_S002_num = col_integer(),\n",
      "  H_S002_frac = col_double(),\n",
      "  H_S003_num = col_integer(),\n",
      "  H_S003_frac = col_double(),\n",
      "  H_S004_num = col_integer(),\n",
      "  H_S004_frac = col_double(),\n",
      "  H_S005_num = col_integer(),\n",
      "  H_S005_frac = col_double()\n",
      ")\n",
      "Warning message:\n",
      "“Too many values at 1704 locations: 1, 3, 4, 7, 10, 11, 12, 13, 15, 17, 18, 20, 21, 23, 24, 25, 26, 27, 28, 29, ...”Warning message:\n",
      "“Too few values at 43 locations: 9, 36, 271, 345, 371, 489, 570, 631, 664, 763, 764, 765, 783, 1105, 1145, 1209, 1214, 1287, 1324, 1337, ...”Parsed with column specification:\n",
      "cols(\n",
      "  name = col_character(),\n",
      "  taxonomy_id = col_integer(),\n",
      "  taxonomy_lvl = col_character(),\n",
      "  taxonomy = col_character(),\n",
      "  taxIDs = col_character(),\n",
      "  H_S001_num = col_integer(),\n",
      "  H_S001_frac = col_double(),\n",
      "  H_S002_num = col_integer(),\n",
      "  H_S002_frac = col_double(),\n",
      "  H_S003_num = col_integer(),\n",
      "  H_S003_frac = col_double(),\n",
      "  H_S004_num = col_integer(),\n",
      "  H_S004_frac = col_double(),\n",
      "  H_S005_num = col_integer(),\n",
      "  H_S005_frac = col_double()\n",
      ")\n",
      "Warning message:\n",
      "“Too many values at 1800 locations: 3, 5, 8, 9, 11, 12, 15, 17, 19, 20, 21, 24, 25, 27, 30, 32, 39, 43, 47, 48, ...”Warning message:\n",
      "“Too few values at 90 locations: 44, 70, 178, 242, 250, 295, 300, 364, 366, 494, 595, 648, 760, 810, 816, 833, 838, 854, 862, 940, ...”"
     ]
    }
   ],
   "source": [
    "# Defaults\n",
    "bracken_cami_defaults = bracken_tables(defaults_bracken_path)\n",
    "defaults_relabund = bracken_cami_defaults$relabund\n",
    "\n",
    "# progenomes\n",
    "bracken_cami_progenomes = bracken_tables(progenomes_bracken_path)\n",
    "progenomes_relabund = bracken_cami_progenomes$relabund\n",
    "\n",
    "# GTDB\n",
    "bracken_cami_gtdb = bracken_tables(gtdb_bracken_path)\n",
    "gtdb_relabund = bracken_cami_gtdb$relabund"
   ]
  },
  {
   "cell_type": "markdown",
   "metadata": {},
   "source": [
    "## Read HUMANn2 Files"
   ]
  },
  {
   "cell_type": "code",
   "execution_count": 13,
   "metadata": {
    "ExecuteTime": {
     "end_time": "2019-09-11T08:26:45.249234Z",
     "start_time": "2019-09-11T08:26:21.244Z"
    }
   },
   "outputs": [],
   "source": [
    "hmn_names = c('Gene_Family',\n",
    "              'H_S001',\n",
    "              'H_S002',\n",
    "              'H_S003',\n",
    "              'H_S004',\n",
    "              'H_S005')"
   ]
  },
  {
   "cell_type": "markdown",
   "metadata": {},
   "source": [
    "### Read HUMANn2 Logs"
   ]
  },
  {
   "cell_type": "code",
   "execution_count": 14,
   "metadata": {
    "ExecuteTime": {
     "end_time": "2019-09-11T08:26:45.277520Z",
     "start_time": "2019-09-11T08:26:21.247Z"
    }
   },
   "outputs": [],
   "source": [
    "read_hlog = function(path){\n",
    "    \n",
    "    # Synth community name\n",
    "    community_name = path %>%\n",
    "        basename %>%\n",
    "        str_replace(., \".log\", \"\")\n",
    "\n",
    "    # Database\n",
    "    db = path %>%\n",
    "        str_split(\"/\", simplify = T) %>%\n",
    "        nth(8)\n",
    "    \n",
    "    \n",
    "    # Read file line by line\n",
    "    # Keep lines with total and used reads at the species level\n",
    "    # create table with data for each sample\n",
    "    grep_cmd = glue('grep \"Unaligned reads after\" {path}', path = path)\n",
    "    system(grep_cmd, intern = T) %>% \n",
    "        data.frame(txt = .) %>%\n",
    "        separate(txt, into = c(\"Stamp\", \"txt\", \"unmapped\"), sep = \": \") %>%\n",
    "        select(\"unmapped\") %>%\n",
    "        mutate(unmapped = str_replace(unmapped, \" %\", \"\")) %>%\n",
    "        mutate(unmapped = as.numeric(unmapped), \n",
    "               category = c(\"Nucleotide\", \"Translated\"), \n",
    "               community = rep(community_name, 2), \n",
    "               database = rep(db, 2))\n",
    "}"
   ]
  },
  {
   "cell_type": "code",
   "execution_count": 15,
   "metadata": {
    "ExecuteTime": {
     "end_time": "2019-09-11T08:26:45.395927Z",
     "start_time": "2019-09-11T08:26:21.249Z"
    }
   },
   "outputs": [],
   "source": [
    "# Humann2 proportion of reads unmapped\n",
    "database = c(\"GTDB\", \"progenomes\", \"defaults\")\n",
    "humann_logs = map(database, \n",
    "                  function(x) file.path(work_dir, x, \"logs/humann2\") %>% \n",
    "                  list.files(., full.names = T)) %>% unlist"
   ]
  },
  {
   "cell_type": "code",
   "execution_count": 16,
   "metadata": {
    "ExecuteTime": {
     "end_time": "2019-09-11T08:26:49.363241Z",
     "start_time": "2019-09-11T08:26:21.253Z"
    }
   },
   "outputs": [
    {
     "data": {
      "text/html": [
       "<table>\n",
       "<thead><tr><th scope=col>category</th><th scope=col>community</th><th scope=col>database</th><th scope=col>proportion</th></tr></thead>\n",
       "<tbody>\n",
       "\t<tr><td>Nucleotide</td><td>H_S001    </td><td>GTDB      </td><td>69.03127  </td></tr>\n",
       "\t<tr><td>Translated</td><td>H_S001    </td><td>GTDB      </td><td>76.62983  </td></tr>\n",
       "\t<tr><td>Nucleotide</td><td>H_S001    </td><td>proGenomes</td><td>70.18767  </td></tr>\n",
       "\t<tr><td>Translated</td><td>H_S001    </td><td>proGenomes</td><td>76.16209  </td></tr>\n",
       "\t<tr><td>Nucleotide</td><td>H_S001    </td><td>ChocoPhlAn</td><td>71.39921  </td></tr>\n",
       "\t<tr><td>Translated</td><td>H_S001    </td><td>ChocoPhlAn</td><td>77.15804  </td></tr>\n",
       "</tbody>\n",
       "</table>\n"
      ],
      "text/latex": [
       "\\begin{tabular}{r|llll}\n",
       " category & community & database & proportion\\\\\n",
       "\\hline\n",
       "\t Nucleotide & H\\_S001   & GTDB       & 69.03127  \\\\\n",
       "\t Translated & H\\_S001   & GTDB       & 76.62983  \\\\\n",
       "\t Nucleotide & H\\_S001   & proGenomes & 70.18767  \\\\\n",
       "\t Translated & H\\_S001   & proGenomes & 76.16209  \\\\\n",
       "\t Nucleotide & H\\_S001   & ChocoPhlAn & 71.39921  \\\\\n",
       "\t Translated & H\\_S001   & ChocoPhlAn & 77.15804  \\\\\n",
       "\\end{tabular}\n"
      ],
      "text/markdown": [
       "\n",
       "category | community | database | proportion | \n",
       "|---|---|---|---|---|---|\n",
       "| Nucleotide | H_S001     | GTDB       | 69.03127   | \n",
       "| Translated | H_S001     | GTDB       | 76.62983   | \n",
       "| Nucleotide | H_S001     | proGenomes | 70.18767   | \n",
       "| Translated | H_S001     | proGenomes | 76.16209   | \n",
       "| Nucleotide | H_S001     | ChocoPhlAn | 71.39921   | \n",
       "| Translated | H_S001     | ChocoPhlAn | 77.15804   | \n",
       "\n",
       "\n"
      ],
      "text/plain": [
       "  category   community database   proportion\n",
       "1 Nucleotide H_S001    GTDB       69.03127  \n",
       "2 Translated H_S001    GTDB       76.62983  \n",
       "3 Nucleotide H_S001    proGenomes 70.18767  \n",
       "4 Translated H_S001    proGenomes 76.16209  \n",
       "5 Nucleotide H_S001    ChocoPhlAn 71.39921  \n",
       "6 Translated H_S001    ChocoPhlAn 77.15804  "
      ]
     },
     "metadata": {},
     "output_type": "display_data"
    }
   ],
   "source": [
    "human_unmapped = map_df(humann_logs, function(x) read_hlog(x)) %>% \n",
    "    arrange(community) %>%\n",
    "    mutate(database = fct_recode(database, ChocoPhlAn = \"defaults\", proGenomes = \"progenomes\")) %>%\n",
    "    mutate(database = fct_relevel(database, c(\"ChocoPhlAn\", \"proGenomes\", \"GTDB\")))\n",
    "                      \n",
    "human_mapped = human_unmapped %>%\n",
    "    mutate(proportion = 100 - unmapped) %>%\n",
    "    select(-unmapped) \n",
    "                        \n",
    "human_mapped %>% head"
   ]
  },
  {
   "cell_type": "markdown",
   "metadata": {},
   "source": [
    "# Assessment of results"
   ]
  },
  {
   "cell_type": "code",
   "execution_count": 17,
   "metadata": {
    "ExecuteTime": {
     "end_time": "2019-09-11T08:26:49.406951Z",
     "start_time": "2019-09-11T08:26:21.255Z"
    }
   },
   "outputs": [],
   "source": [
    "# Colors\n",
    "dbs_pallete = c(\"#969696\", \"#1879bf\", \"#1db628\")"
   ]
  },
  {
   "cell_type": "markdown",
   "metadata": {},
   "source": [
    "## Tax Profile"
   ]
  },
  {
   "cell_type": "markdown",
   "metadata": {},
   "source": [
    "### Kraken - proportion of mapped reads"
   ]
  },
  {
   "cell_type": "code",
   "execution_count": 18,
   "metadata": {
    "ExecuteTime": {
     "end_time": "2019-09-11T08:26:49.537549Z",
     "start_time": "2019-09-11T08:26:21.258Z"
    }
   },
   "outputs": [
    {
     "data": {
      "text/html": [
       "<table>\n",
       "<thead><tr><th scope=col>database</th><th scope=col>mean</th><th scope=col>sd</th></tr></thead>\n",
       "<tbody>\n",
       "\t<tr><td>RefSeq    </td><td>78.490    </td><td>0.1544345 </td></tr>\n",
       "\t<tr><td>proGenomes</td><td>89.124    </td><td>0.2158240 </td></tr>\n",
       "\t<tr><td>GTDB      </td><td>92.086    </td><td>0.2104281 </td></tr>\n",
       "</tbody>\n",
       "</table>\n"
      ],
      "text/latex": [
       "\\begin{tabular}{r|lll}\n",
       " database & mean & sd\\\\\n",
       "\\hline\n",
       "\t RefSeq     & 78.490     & 0.1544345 \\\\\n",
       "\t proGenomes & 89.124     & 0.2158240 \\\\\n",
       "\t GTDB       & 92.086     & 0.2104281 \\\\\n",
       "\\end{tabular}\n"
      ],
      "text/markdown": [
       "\n",
       "database | mean | sd | \n",
       "|---|---|---|\n",
       "| RefSeq     | 78.490     | 0.1544345  | \n",
       "| proGenomes | 89.124     | 0.2158240  | \n",
       "| GTDB       | 92.086     | 0.2104281  | \n",
       "\n",
       "\n"
      ],
      "text/plain": [
       "  database   mean   sd       \n",
       "1 RefSeq     78.490 0.1544345\n",
       "2 proGenomes 89.124 0.2158240\n",
       "3 GTDB       92.086 0.2104281"
      ]
     },
     "metadata": {},
     "output_type": "display_data"
    }
   ],
   "source": [
    "# Summary of mapped reads per database\n",
    "kraken_classified %>%\n",
    "    group_by(database) %>% \n",
    "    summarise(mean = mean(proportion), sd = sd(proportion))"
   ]
  },
  {
   "cell_type": "code",
   "execution_count": 19,
   "metadata": {
    "ExecuteTime": {
     "end_time": "2019-09-11T08:26:49.579580Z",
     "start_time": "2019-09-11T08:26:21.262Z"
    }
   },
   "outputs": [
    {
     "data": {
      "text/html": [
       "<table>\n",
       "<thead><tr><th scope=col>seqs</th><th scope=col>category</th><th scope=col>community</th><th scope=col>database</th><th scope=col>proportion</th></tr></thead>\n",
       "<tbody>\n",
       "\t<tr><td>50298874  </td><td>classified</td><td>H_S001    </td><td>GTDB      </td><td>91.76     </td></tr>\n",
       "\t<tr><td>48738068  </td><td>classified</td><td>H_S001    </td><td>proGenomes</td><td>88.91     </td></tr>\n",
       "\t<tr><td>43156176  </td><td>classified</td><td>H_S001    </td><td>RefSeq    </td><td>78.73     </td></tr>\n",
       "\t<tr><td>50459497  </td><td>classified</td><td>H_S002    </td><td>GTDB      </td><td>92.05     </td></tr>\n",
       "\t<tr><td>48748854  </td><td>classified</td><td>H_S002    </td><td>proGenomes</td><td>88.93     </td></tr>\n",
       "\t<tr><td>43009456  </td><td>classified</td><td>H_S002    </td><td>RefSeq    </td><td>78.46     </td></tr>\n",
       "</tbody>\n",
       "</table>\n"
      ],
      "text/latex": [
       "\\begin{tabular}{r|lllll}\n",
       " seqs & category & community & database & proportion\\\\\n",
       "\\hline\n",
       "\t 50298874   & classified & H\\_S001   & GTDB       & 91.76     \\\\\n",
       "\t 48738068   & classified & H\\_S001   & proGenomes & 88.91     \\\\\n",
       "\t 43156176   & classified & H\\_S001   & RefSeq     & 78.73     \\\\\n",
       "\t 50459497   & classified & H\\_S002   & GTDB       & 92.05     \\\\\n",
       "\t 48748854   & classified & H\\_S002   & proGenomes & 88.93     \\\\\n",
       "\t 43009456   & classified & H\\_S002   & RefSeq     & 78.46     \\\\\n",
       "\\end{tabular}\n"
      ],
      "text/markdown": [
       "\n",
       "seqs | category | community | database | proportion | \n",
       "|---|---|---|---|---|---|\n",
       "| 50298874   | classified | H_S001     | GTDB       | 91.76      | \n",
       "| 48738068   | classified | H_S001     | proGenomes | 88.91      | \n",
       "| 43156176   | classified | H_S001     | RefSeq     | 78.73      | \n",
       "| 50459497   | classified | H_S002     | GTDB       | 92.05      | \n",
       "| 48748854   | classified | H_S002     | proGenomes | 88.93      | \n",
       "| 43009456   | classified | H_S002     | RefSeq     | 78.46      | \n",
       "\n",
       "\n"
      ],
      "text/plain": [
       "  seqs     category   community database   proportion\n",
       "1 50298874 classified H_S001    GTDB       91.76     \n",
       "2 48738068 classified H_S001    proGenomes 88.91     \n",
       "3 43156176 classified H_S001    RefSeq     78.73     \n",
       "4 50459497 classified H_S002    GTDB       92.05     \n",
       "5 48748854 classified H_S002    proGenomes 88.93     \n",
       "6 43009456 classified H_S002    RefSeq     78.46     "
      ]
     },
     "metadata": {},
     "output_type": "display_data"
    }
   ],
   "source": [
    "kraken_classified %>% head"
   ]
  },
  {
   "cell_type": "code",
   "execution_count": 20,
   "metadata": {
    "ExecuteTime": {
     "end_time": "2019-09-11T08:26:58.716319Z",
     "start_time": "2019-09-11T08:26:21.264Z"
    }
   },
   "outputs": [
    {
     "data": {
      "image/png": "[encoded data removed]",
      "text/plain": [
       "plot without title"
      ]
     },
     "metadata": {},
     "output_type": "display_data"
    }
   ],
   "source": [
    "options(repr.plot.width = 4, repr.plot.height = 5)\n",
    "k_plt = kraken_classified %>%\n",
    "    ggplot(aes(x = database, y = (proportion))) +\n",
    "        geom_jitter(position=position_jitter(0.1), aes(alpha = 0.01), color = \"#A9A9A9\") +\n",
    "        stat_summary(fun.data=mean_sdl, geom=\"pointrange\", color=\"black\") +\n",
    "        theme_light() +\n",
    "        theme(axis.text.x = element_text(angle = 45, hjust = 1, size = 15),\n",
    "              axis.text.y = element_text(size = 12), \n",
    "              axis.title.y = element_text(size = 15),\n",
    "              legend.position = \"none\") +\n",
    "        labs(x = \"Database\", y = \"Mapped reads (%)\", title = \"Kraken\") +\n",
    "        lims(y = c(0,100))\n",
    "\n",
    "\n",
    "plot(k_plt)"
   ]
  },
  {
   "cell_type": "markdown",
   "metadata": {},
   "source": [
    "### Bracken - proportion of used read at species level"
   ]
  },
  {
   "cell_type": "code",
   "execution_count": 21,
   "metadata": {
    "ExecuteTime": {
     "end_time": "2019-09-11T08:26:58.833855Z",
     "start_time": "2019-09-11T08:26:21.268Z"
    }
   },
   "outputs": [
    {
     "data": {
      "text/html": [
       "<table>\n",
       "<thead><tr><th scope=col>community</th><th scope=col>database</th><th scope=col>proportion</th></tr></thead>\n",
       "<tbody>\n",
       "\t<tr><td>H_S001    </td><td>GTDB      </td><td>83.90539  </td></tr>\n",
       "\t<tr><td>H_S001    </td><td>proGenomes</td><td>84.76577  </td></tr>\n",
       "\t<tr><td>H_S001    </td><td>RefSeq    </td><td>59.14257  </td></tr>\n",
       "\t<tr><td>H_S002    </td><td>GTDB      </td><td>84.09309  </td></tr>\n",
       "\t<tr><td>H_S002    </td><td>proGenomes</td><td>84.75719  </td></tr>\n",
       "\t<tr><td>H_S002    </td><td>RefSeq    </td><td>59.00685  </td></tr>\n",
       "</tbody>\n",
       "</table>\n"
      ],
      "text/latex": [
       "\\begin{tabular}{r|lll}\n",
       " community & database & proportion\\\\\n",
       "\\hline\n",
       "\t H\\_S001   & GTDB       & 83.90539  \\\\\n",
       "\t H\\_S001   & proGenomes & 84.76577  \\\\\n",
       "\t H\\_S001   & RefSeq     & 59.14257  \\\\\n",
       "\t H\\_S002   & GTDB       & 84.09309  \\\\\n",
       "\t H\\_S002   & proGenomes & 84.75719  \\\\\n",
       "\t H\\_S002   & RefSeq     & 59.00685  \\\\\n",
       "\\end{tabular}\n"
      ],
      "text/markdown": [
       "\n",
       "community | database | proportion | \n",
       "|---|---|---|---|---|---|\n",
       "| H_S001     | GTDB       | 83.90539   | \n",
       "| H_S001     | proGenomes | 84.76577   | \n",
       "| H_S001     | RefSeq     | 59.14257   | \n",
       "| H_S002     | GTDB       | 84.09309   | \n",
       "| H_S002     | proGenomes | 84.75719   | \n",
       "| H_S002     | RefSeq     | 59.00685   | \n",
       "\n",
       "\n"
      ],
      "text/plain": [
       "  community database   proportion\n",
       "1 H_S001    GTDB       83.90539  \n",
       "2 H_S001    proGenomes 84.76577  \n",
       "3 H_S001    RefSeq     59.14257  \n",
       "4 H_S002    GTDB       84.09309  \n",
       "5 H_S002    proGenomes 84.75719  \n",
       "6 H_S002    RefSeq     59.00685  "
      ]
     },
     "metadata": {},
     "output_type": "display_data"
    }
   ],
   "source": [
    "# Determine the number of reads actually used by Bracken\n",
    "br_total = bracken_used_complete %>% \n",
    "    filter(category == \"Total\") %>%\n",
    "    pull(seqs)\n",
    "\n",
    "br_used = bracken_used_complete %>% \n",
    "    filter(category == \"Used\") %>%\n",
    "    pull(seqs)\n",
    "\n",
    "br_proportion = bracken_used_complete %>% \n",
    "    filter(category == \"Used\") %>%\n",
    "    select(community, database) %>%\n",
    "    mutate(proportion = (br_used /br_total)*100)\n",
    "\n",
    "br_proportion %>% head"
   ]
  },
  {
   "cell_type": "code",
   "execution_count": 22,
   "metadata": {
    "ExecuteTime": {
     "end_time": "2019-09-11T08:26:58.882099Z",
     "start_time": "2019-09-11T08:26:21.272Z"
    }
   },
   "outputs": [
    {
     "data": {
      "text/html": [
       "<table>\n",
       "<thead><tr><th scope=col>database</th><th scope=col>mean</th><th scope=col>sd</th></tr></thead>\n",
       "<tbody>\n",
       "\t<tr><td>RefSeq    </td><td>59.27913  </td><td>0.2479790 </td></tr>\n",
       "\t<tr><td>proGenomes</td><td>84.86596  </td><td>0.1041589 </td></tr>\n",
       "\t<tr><td>GTDB      </td><td>83.96041  </td><td>0.1378634 </td></tr>\n",
       "</tbody>\n",
       "</table>\n"
      ],
      "text/latex": [
       "\\begin{tabular}{r|lll}\n",
       " database & mean & sd\\\\\n",
       "\\hline\n",
       "\t RefSeq     & 59.27913   & 0.2479790 \\\\\n",
       "\t proGenomes & 84.86596   & 0.1041589 \\\\\n",
       "\t GTDB       & 83.96041   & 0.1378634 \\\\\n",
       "\\end{tabular}\n"
      ],
      "text/markdown": [
       "\n",
       "database | mean | sd | \n",
       "|---|---|---|\n",
       "| RefSeq     | 59.27913   | 0.2479790  | \n",
       "| proGenomes | 84.86596   | 0.1041589  | \n",
       "| GTDB       | 83.96041   | 0.1378634  | \n",
       "\n",
       "\n"
      ],
      "text/plain": [
       "  database   mean     sd       \n",
       "1 RefSeq     59.27913 0.2479790\n",
       "2 proGenomes 84.86596 0.1041589\n",
       "3 GTDB       83.96041 0.1378634"
      ]
     },
     "metadata": {},
     "output_type": "display_data"
    }
   ],
   "source": [
    "# Summary of used reads per database\n",
    "br_proportion %>%\n",
    "    group_by(database) %>% \n",
    "    summarise(mean = mean(proportion), sd = sd(proportion))"
   ]
  },
  {
   "cell_type": "code",
   "execution_count": 23,
   "metadata": {
    "ExecuteTime": {
     "end_time": "2019-09-11T08:27:01.096779Z",
     "start_time": "2019-09-11T08:26:21.275Z"
    }
   },
   "outputs": [
    {
     "data": {
      "image/png": "[encoded data removed]",
      "text/plain": [
       "plot without title"
      ]
     },
     "metadata": {},
     "output_type": "display_data"
    }
   ],
   "source": [
    "options(repr.plot.width = 4, repr.plot.height = 5)\n",
    "b_plt = br_proportion %>%\n",
    "    ggplot(aes(x = database, y = proportion)) +\n",
    "        geom_jitter(position=position_jitter(0.1), aes(alpha = 0.01), color = \"#A9A9A9\") +\n",
    "        stat_summary(fun.data=mean_sdl, geom=\"pointrange\", color=\"black\") +\n",
    "        theme_light() +\n",
    "        theme(axis.text.x = element_text(angle = 45, hjust = 1, size = 15),\n",
    "              axis.text.y = element_text(size = 12), \n",
    "              axis.title.y = element_text(size = 15),\n",
    "              legend.position = \"none\") +\n",
    "        labs(x = \"Database\", y = \"Mapped reads (%)\", title = \"Bracken\") +\n",
    "        lims(y = c(0,100))\n",
    "\n",
    "\n",
    "plot(b_plt)"
   ]
  },
  {
   "cell_type": "markdown",
   "metadata": {},
   "source": [
    "### Kraken-Bracken Plots"
   ]
  },
  {
   "cell_type": "code",
   "execution_count": 24,
   "metadata": {
    "ExecuteTime": {
     "end_time": "2019-09-11T08:27:02.872160Z",
     "start_time": "2019-09-11T08:26:21.277Z"
    }
   },
   "outputs": [
    {
     "data": {},
     "metadata": {},
     "output_type": "display_data"
    },
    {
     "data": {
      "image/png": "[encoded data removed]",
      "text/plain": [
       "plot without title"
      ]
     },
     "metadata": {},
     "output_type": "display_data"
    }
   ],
   "source": [
    "# Kraken and Bracken mapping\n",
    "options(repr.plot.width = 8, repr.plot.height = 5)\n",
    "plot_grid(k_plt, b_plt, nrow = 1, labels = \"AUTO\")"
   ]
  },
  {
   "cell_type": "markdown",
   "metadata": {},
   "source": [
    "## Functional Profile"
   ]
  },
  {
   "cell_type": "markdown",
   "metadata": {},
   "source": [
    "### HUMANn2 proportion of mapped reads after nucleotide search"
   ]
  },
  {
   "cell_type": "code",
   "execution_count": 25,
   "metadata": {
    "ExecuteTime": {
     "end_time": "2019-09-11T08:27:02.948906Z",
     "start_time": "2019-09-11T08:26:21.280Z"
    }
   },
   "outputs": [],
   "source": [
    "hmn2_proportion = human_mapped %>%\n",
    "    filter(category == \"Nucleotide\") %>%\n",
    "    select(-category)"
   ]
  },
  {
   "cell_type": "code",
   "execution_count": 26,
   "metadata": {
    "ExecuteTime": {
     "end_time": "2019-09-11T08:27:03.821122Z",
     "start_time": "2019-09-11T08:26:21.283Z"
    }
   },
   "outputs": [
    {
     "data": {
      "image/png": "[encoded data removed]",
      "text/plain": [
       "plot without title"
      ]
     },
     "metadata": {},
     "output_type": "display_data"
    }
   ],
   "source": [
    "options(repr.plot.width = 4, repr.plot.height = 5)\n",
    "hmn2_nuc_plt = hmn2_proportion %>%\n",
    "    ggplot(aes(x = database, y = proportion)) +\n",
    "        geom_jitter(position=position_jitter(0.1), aes(alpha = 0.01), color = \"#A9A9A9\") +\n",
    "        stat_summary(fun.data=mean_sdl, geom=\"pointrange\", color=\"black\") +\n",
    "        theme_light() +\n",
    "        theme(axis.text.x = element_text(angle = 45, hjust = 1, size = 15),\n",
    "              axis.text.y = element_text(size = 12), \n",
    "              axis.title.y = element_text(size = 15),\n",
    "              legend.position = \"none\") +\n",
    "        labs(x = \"Database\", y = \"Mapped reads (%)\", title = \"HUMANn2 - Nucleotide\") +\n",
    "        lims(y = c(0,100))\n",
    "\n",
    "\n",
    "plot(hmn2_nuc_plt)"
   ]
  },
  {
   "cell_type": "markdown",
   "metadata": {},
   "source": [
    "### HUMANn2 proportion of mapped reads after translated search"
   ]
  },
  {
   "cell_type": "code",
   "execution_count": 27,
   "metadata": {
    "ExecuteTime": {
     "end_time": "2019-09-11T08:27:03.885101Z",
     "start_time": "2019-09-11T08:26:21.285Z"
    }
   },
   "outputs": [],
   "source": [
    "hmn2_proportion = human_mapped %>%\n",
    "    filter(category == \"Translated\") %>%\n",
    "    select(-category)"
   ]
  },
  {
   "cell_type": "code",
   "execution_count": 28,
   "metadata": {
    "ExecuteTime": {
     "end_time": "2019-09-11T08:27:04.582589Z",
     "start_time": "2019-09-11T08:26:21.290Z"
    }
   },
   "outputs": [
    {
     "data": {
      "image/png": "[encoded data removed]",
      "text/plain": [
       "plot without title"
      ]
     },
     "metadata": {},
     "output_type": "display_data"
    }
   ],
   "source": [
    "options(repr.plot.width = 4, repr.plot.height = 5)\n",
    "hmn2_trns_plt = hmn2_proportion %>%\n",
    "    ggplot(aes(x = database, y = proportion)) +\n",
    "        geom_jitter(position=position_jitter(0.1), aes(alpha = 0.01), color = \"#A9A9A9\") +\n",
    "        stat_summary(fun.data=mean_sdl, geom=\"pointrange\", color=\"black\") +\n",
    "        theme_light() +\n",
    "        theme(axis.text.x = element_text(angle = 45, hjust = 1, size = 15),\n",
    "              axis.text.y = element_text(size = 12), \n",
    "              axis.title.y = element_text(size = 15),\n",
    "              legend.position = \"none\") +\n",
    "        labs(x = \"Database\", y = \"Mapped reads (%)\", title = \"HUMANn2 - Translated\") +\n",
    "        lims(y = c(0,100))\n",
    "\n",
    "\n",
    "plot(hmn2_trns_plt)"
   ]
  },
  {
   "cell_type": "markdown",
   "metadata": {},
   "source": [
    "# All plots combined "
   ]
  },
  {
   "cell_type": "code",
   "execution_count": 29,
   "metadata": {
    "ExecuteTime": {
     "end_time": "2019-09-11T08:27:08.990633Z",
     "start_time": "2019-09-11T08:26:21.294Z"
    },
    "scrolled": false
   },
   "outputs": [
    {
     "data": {},
     "metadata": {},
     "output_type": "display_data"
    },
    {
     "data": {
      "image/png": "[encoded data removed]",
      "text/plain": [
       "plot without title"
      ]
     },
     "metadata": {},
     "output_type": "display_data"
    }
   ],
   "source": [
    "# Kraken and Bracken mapping\n",
    "options(repr.plot.width = 6, repr.plot.height = 9)\n",
    "final_plot = plot_grid(k_plt, b_plt, hmn2_nuc_plt, hmn2_trns_plt, nrow = 2, labels = \"AUTO\")\n",
    "final_plot"
   ]
  },
  {
   "cell_type": "code",
   "execution_count": 55,
   "metadata": {
    "ExecuteTime": {
     "end_time": "2019-08-28T08:30:31.318594Z",
     "start_time": "2019-08-28T08:30:24.197Z"
    },
    "deletable": false,
    "editable": false,
    "run_control": {
     "frozen": true
    }
   },
   "outputs": [],
   "source": [
    "# Save plot\n",
    "plot_file = \"./images/CAMI_plot_combined.png\"\n",
    "save_plot(filename = plot_file, plot = final_plot,\n",
    "          base_height = 9, base_width = 6, dpi = 300)"
   ]
  },
  {
   "cell_type": "markdown",
   "metadata": {
    "ExecuteTime": {
     "end_time": "2019-08-14T11:12:42.905344Z",
     "start_time": "2019-08-14T11:12:42.873Z"
    }
   },
   "source": [
    "# Session Info"
   ]
  },
  {
   "cell_type": "code",
   "execution_count": 30,
   "metadata": {
    "ExecuteTime": {
     "end_time": "2019-09-11T08:27:09.229647Z",
     "start_time": "2019-09-11T08:26:21.298Z"
    }
   },
   "outputs": [
    {
     "data": {
      "text/plain": [
       "R version 3.4.1 (2017-06-30)\n",
       "Platform: x86_64-pc-linux-gnu (64-bit)\n",
       "Running under: Ubuntu 18.04.3 LTS\n",
       "\n",
       "Matrix products: default\n",
       "BLAS: /ebio/abt3_projects/software/miniconda3_gt4.4/envs/UpSetR/lib/R/lib/libRblas.so\n",
       "LAPACK: /ebio/abt3_projects/software/miniconda3_gt4.4/envs/UpSetR/lib/R/lib/libRlapack.so\n",
       "\n",
       "locale:\n",
       "[1] en_US.UTF-8\n",
       "\n",
       "attached base packages:\n",
       "[1] stats     graphics  grDevices utils     datasets  methods   base     \n",
       "\n",
       "other attached packages:\n",
       " [1] bindrcpp_0.2        glue_1.2.0          data.table_1.10.4-3\n",
       " [4] cowplot_0.9.3       forcats_0.2.0       stringr_1.2.0      \n",
       " [7] dplyr_0.7.4         purrr_0.2.4         readr_1.1.1        \n",
       "[10] tidyr_0.7.2         tibble_1.4.1        ggplot2_2.2.1      \n",
       "[13] tidyverse_1.1.1    \n",
       "\n",
       "loaded via a namespace (and not attached):\n",
       " [1] Rcpp_0.12.14        lubridate_1.7.4     lattice_0.20-35    \n",
       " [4] assertthat_0.2.0    digest_0.6.13       IRdisplay_0.4.4    \n",
       " [7] R6_2.2.2            cellranger_1.1.0    plyr_1.8.4         \n",
       "[10] repr_0.15.0         backports_1.1.2     acepack_1.4.1      \n",
       "[13] evaluate_0.10.1     httr_1.2.1          pillar_1.0.1       \n",
       "[16] rlang_0.1.6         lazyeval_0.2.1      uuid_0.1-2         \n",
       "[19] readxl_1.1.0        rpart_4.1-11        Matrix_1.2-14      \n",
       "[22] checkmate_1.8.5     labeling_0.3        splines_3.4.1      \n",
       "[25] foreign_0.8-68      htmlwidgets_0.8     munsell_0.4.3      \n",
       "[28] broom_0.5.0         compiler_3.4.1      modelr_0.1.0       \n",
       "[31] pkgconfig_2.0.1     base64enc_0.1-3     htmltools_0.3.6    \n",
       "[34] nnet_7.3-12         tidyselect_0.2.3    htmlTable_1.9      \n",
       "[37] gridExtra_2.3       Hmisc_4.0-3         crayon_1.3.4       \n",
       "[40] grid_3.4.1          nlme_3.1-131        jsonlite_1.5       \n",
       "[43] gtable_0.2.0        magrittr_1.5        scales_0.5.0       \n",
       "[46] stringi_1.1.6       latticeExtra_0.6-28 xml2_1.1.1         \n",
       "[49] IRkernel_0.8.12     Formula_1.2-1       RColorBrewer_1.1-2 \n",
       "[52] tools_3.4.1         hms_0.4.2           survival_2.42-6    \n",
       "[55] colorspace_1.3-2    cluster_2.0.6       rvest_0.3.2        \n",
       "[58] pbdZMQ_0.3-2        knitr_1.18          bindr_0.1          \n",
       "[61] haven_1.0.0        "
      ]
     },
     "metadata": {},
     "output_type": "display_data"
    }
   ],
   "source": [
    "sessionInfo()"
   ]
  }
 ],
 "metadata": {
  "kernelspec": {
   "display_name": "R [conda env:UpSetR]",
   "language": "R",
   "name": "conda-env-UpSetR-r"
  },
  "language_info": {
   "codemirror_mode": "r",
   "file_extension": ".r",
   "mimetype": "text/x-r-source",
   "name": "R",
   "pygments_lexer": "r",
   "version": "3.4.1"
  },
  "toc": {
   "base_numbering": 1,
   "nav_menu": {},
   "number_sections": true,
   "sideBar": true,
   "skip_h1_title": false,
   "title_cell": "Table of Contents",
   "title_sidebar": "Contents",
   "toc_cell": false,
   "toc_position": {
    "height": "calc(100% - 180px)",
    "left": "10px",
    "top": "150px",
    "width": "349.091px"
   },
   "toc_section_display": true,
   "toc_window_display": true
  }
 },
 "nbformat": 4,
 "nbformat_minor": 2
}
