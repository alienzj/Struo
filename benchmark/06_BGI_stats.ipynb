{
 "cells": [
  {
   "cell_type": "markdown",
   "metadata": {},
   "source": [
    "# Goal\n",
    "\n",
    "Jacobo de la Cuesta-Zuluaga, May 2019.\n",
    "\n",
    "The aim of this notebook is to compare the profiles obtained with the different databases on the BGI250 data"
   ]
  },
  {
   "cell_type": "markdown",
   "metadata": {},
   "source": [
    "# Init"
   ]
  },
  {
   "cell_type": "code",
   "execution_count": 1,
   "metadata": {
    "ExecuteTime": {
     "end_time": "2019-09-11T08:29:48.401822Z",
     "start_time": "2019-09-11T08:29:46.009Z"
    }
   },
   "outputs": [
    {
     "name": "stderr",
     "output_type": "stream",
     "text": [
      "Loading tidyverse: ggplot2\n",
      "Loading tidyverse: tibble\n",
      "Loading tidyverse: tidyr\n",
      "Loading tidyverse: readr\n",
      "Loading tidyverse: purrr\n",
      "Loading tidyverse: dplyr\n",
      "Warning message:\n",
      "“package ‘ggplot2’ was built under R version 3.4.3”Warning message:\n",
      "“package ‘tibble’ was built under R version 3.4.3”Warning message:\n",
      "“package ‘tidyr’ was built under R version 3.4.3”Warning message:\n",
      "“package ‘purrr’ was built under R version 3.4.3”Warning message:\n",
      "“package ‘dplyr’ was built under R version 3.4.3”Conflicts with tidy packages ---------------------------------------------------\n",
      "filter(): dplyr, stats\n",
      "lag():    dplyr, stats\n",
      "Warning message:\n",
      "“package ‘stringr’ was built under R version 3.4.3”\n",
      "Attaching package: ‘cowplot’\n",
      "\n",
      "The following object is masked from ‘package:ggplot2’:\n",
      "\n",
      "    ggsave\n",
      "\n",
      "Warning message:\n",
      "“package ‘data.table’ was built under R version 3.4.3”\n",
      "Attaching package: ‘data.table’\n",
      "\n",
      "The following objects are masked from ‘package:dplyr’:\n",
      "\n",
      "    between, first, last\n",
      "\n",
      "The following object is masked from ‘package:purrr’:\n",
      "\n",
      "    transpose\n",
      "\n",
      "Warning message:\n",
      "“package ‘glue’ was built under R version 3.4.3”\n",
      "Attaching package: ‘glue’\n",
      "\n",
      "The following object is masked from ‘package:dplyr’:\n",
      "\n",
      "    collapse\n",
      "\n"
     ]
    }
   ],
   "source": [
    "library(tidyverse)\n",
    "library(stringr)\n",
    "library(forcats)\n",
    "library(cowplot)\n",
    "library(data.table)\n",
    "library(glue)"
   ]
  },
  {
   "cell_type": "markdown",
   "metadata": {},
   "source": [
    "# Var"
   ]
  },
  {
   "cell_type": "code",
   "execution_count": 2,
   "metadata": {
    "ExecuteTime": {
     "end_time": "2019-09-11T08:29:48.871106Z",
     "start_time": "2019-09-11T08:29:46.015Z"
    }
   },
   "outputs": [],
   "source": [
    "work_dir = \"/ebio/abt3_projects/Struo/struo_benchmark/data/profiles_BGI250\""
   ]
  },
  {
   "cell_type": "markdown",
   "metadata": {},
   "source": [
    "## Dataframe with Kraken classification reads"
   ]
  },
  {
   "cell_type": "code",
   "execution_count": 3,
   "metadata": {
    "ExecuteTime": {
     "end_time": "2019-09-11T08:29:49.156802Z",
     "start_time": "2019-09-11T08:29:46.018Z"
    }
   },
   "outputs": [],
   "source": [
    "# Kraken proportion of reads mapped\n",
    "database = c(\"GTDB\", \"progenomes\", \"defaults\")\n",
    "kraken_logs = map(database, \n",
    "                  function(x) file.path(work_dir, x, \"logs/kraken\") %>% \n",
    "                  list.files(., full.names = T)) %>% unlist"
   ]
  },
  {
   "cell_type": "code",
   "execution_count": 4,
   "metadata": {
    "ExecuteTime": {
     "end_time": "2019-09-11T08:29:49.182523Z",
     "start_time": "2019-09-11T08:29:46.020Z"
    }
   },
   "outputs": [],
   "source": [
    "read_klog = function(path){\n",
    "    \n",
    "    # Sample community name\n",
    "    community_name = path %>%\n",
    "        basename %>%\n",
    "        str_replace(., \".log\", \"\")\n",
    "\n",
    "    # Database\n",
    "    db = path %>%\n",
    "        str_split(\"/\", simplify = T) %>%\n",
    "        nth(8)\n",
    "    \n",
    "    # Read file line by line\n",
    "    # Keep lines with classified and unclassified reads\n",
    "    # create table with data for each sample\n",
    "    readLines(path) %>%\n",
    "        data.frame(txt = .) %>%\n",
    "        tail(., n=2) %>%\n",
    "        separate(txt, into = c(\"seqs\", \"category\"), sep = \"sequences\") %>%\n",
    "        mutate(seqs = as.numeric(seqs), \n",
    "               category = c(\"classified\", \"unclassified\"), \n",
    "               community = rep(community_name, 2), \n",
    "               database = rep(db, 2))\n",
    "}\n",
    "\n"
   ]
  },
  {
   "cell_type": "code",
   "execution_count": 5,
   "metadata": {
    "ExecuteTime": {
     "end_time": "2019-09-11T08:30:09.626742Z",
     "start_time": "2019-09-11T08:29:46.023Z"
    }
   },
   "outputs": [
    {
     "name": "stderr",
     "output_type": "stream",
     "text": [
      "Warning message:\n",
      "“package ‘bindrcpp’ was built under R version 3.4.3”"
     ]
    },
    {
     "data": {
      "text/html": [
       "<table>\n",
       "<thead><tr><th scope=col>seqs</th><th scope=col>category</th><th scope=col>community</th><th scope=col>database</th></tr></thead>\n",
       "<tbody>\n",
       "\t<tr><td>27412288    </td><td>classified  </td><td>1002314     </td><td>GTDB        </td></tr>\n",
       "\t<tr><td> 8438016    </td><td>unclassified</td><td>1002314     </td><td>GTDB        </td></tr>\n",
       "\t<tr><td>20951737    </td><td>classified  </td><td>1002314     </td><td>progenomes  </td></tr>\n",
       "\t<tr><td>14898567    </td><td>unclassified</td><td>1002314     </td><td>progenomes  </td></tr>\n",
       "\t<tr><td>15580619    </td><td>classified  </td><td>1002314     </td><td>defaults    </td></tr>\n",
       "\t<tr><td>20269685    </td><td>unclassified</td><td>1002314     </td><td>defaults    </td></tr>\n",
       "</tbody>\n",
       "</table>\n"
      ],
      "text/latex": [
       "\\begin{tabular}{r|llll}\n",
       " seqs & category & community & database\\\\\n",
       "\\hline\n",
       "\t 27412288     & classified   & 1002314      & GTDB        \\\\\n",
       "\t  8438016     & unclassified & 1002314      & GTDB        \\\\\n",
       "\t 20951737     & classified   & 1002314      & progenomes  \\\\\n",
       "\t 14898567     & unclassified & 1002314      & progenomes  \\\\\n",
       "\t 15580619     & classified   & 1002314      & defaults    \\\\\n",
       "\t 20269685     & unclassified & 1002314      & defaults    \\\\\n",
       "\\end{tabular}\n"
      ],
      "text/markdown": [
       "\n",
       "seqs | category | community | database | \n",
       "|---|---|---|---|---|---|\n",
       "| 27412288     | classified   | 1002314      | GTDB         | \n",
       "|  8438016     | unclassified | 1002314      | GTDB         | \n",
       "| 20951737     | classified   | 1002314      | progenomes   | \n",
       "| 14898567     | unclassified | 1002314      | progenomes   | \n",
       "| 15580619     | classified   | 1002314      | defaults     | \n",
       "| 20269685     | unclassified | 1002314      | defaults     | \n",
       "\n",
       "\n"
      ],
      "text/plain": [
       "  seqs     category     community database  \n",
       "1 27412288 classified   1002314   GTDB      \n",
       "2  8438016 unclassified 1002314   GTDB      \n",
       "3 20951737 classified   1002314   progenomes\n",
       "4 14898567 unclassified 1002314   progenomes\n",
       "5 15580619 classified   1002314   defaults  \n",
       "6 20269685 unclassified 1002314   defaults  "
      ]
     },
     "metadata": {},
     "output_type": "display_data"
    }
   ],
   "source": [
    "kraken_classified_complete = map_df(kraken_logs, function(x) read_klog(x)) %>% \n",
    "                           arrange(community)\n",
    "                           \n",
    "kraken_classified_complete %>% head"
   ]
  },
  {
   "cell_type": "code",
   "execution_count": 6,
   "metadata": {
    "ExecuteTime": {
     "end_time": "2019-09-11T08:30:09.775001Z",
     "start_time": "2019-09-11T08:29:46.026Z"
    }
   },
   "outputs": [
    {
     "data": {
      "text/html": [
       "<table>\n",
       "<thead><tr><th scope=col>seqs</th><th scope=col>category</th><th scope=col>community</th><th scope=col>database</th><th scope=col>proportion</th></tr></thead>\n",
       "<tbody>\n",
       "\t<tr><td>27412288  </td><td>classified</td><td>1002314   </td><td>GTDB      </td><td>76.46     </td></tr>\n",
       "\t<tr><td>20951737  </td><td>classified</td><td>1002314   </td><td>proGenomes</td><td>58.44     </td></tr>\n",
       "\t<tr><td>15580619  </td><td>classified</td><td>1002314   </td><td>RefSeq    </td><td>43.46     </td></tr>\n",
       "\t<tr><td>34683189  </td><td>classified</td><td>1002317   </td><td>GTDB      </td><td>71.20     </td></tr>\n",
       "\t<tr><td>28770535  </td><td>classified</td><td>1002317   </td><td>proGenomes</td><td>59.06     </td></tr>\n",
       "\t<tr><td>17366796  </td><td>classified</td><td>1002317   </td><td>RefSeq    </td><td>35.65     </td></tr>\n",
       "</tbody>\n",
       "</table>\n"
      ],
      "text/latex": [
       "\\begin{tabular}{r|lllll}\n",
       " seqs & category & community & database & proportion\\\\\n",
       "\\hline\n",
       "\t 27412288   & classified & 1002314    & GTDB       & 76.46     \\\\\n",
       "\t 20951737   & classified & 1002314    & proGenomes & 58.44     \\\\\n",
       "\t 15580619   & classified & 1002314    & RefSeq     & 43.46     \\\\\n",
       "\t 34683189   & classified & 1002317    & GTDB       & 71.20     \\\\\n",
       "\t 28770535   & classified & 1002317    & proGenomes & 59.06     \\\\\n",
       "\t 17366796   & classified & 1002317    & RefSeq     & 35.65     \\\\\n",
       "\\end{tabular}\n"
      ],
      "text/markdown": [
       "\n",
       "seqs | category | community | database | proportion | \n",
       "|---|---|---|---|---|---|\n",
       "| 27412288   | classified | 1002314    | GTDB       | 76.46      | \n",
       "| 20951737   | classified | 1002314    | proGenomes | 58.44      | \n",
       "| 15580619   | classified | 1002314    | RefSeq     | 43.46      | \n",
       "| 34683189   | classified | 1002317    | GTDB       | 71.20      | \n",
       "| 28770535   | classified | 1002317    | proGenomes | 59.06      | \n",
       "| 17366796   | classified | 1002317    | RefSeq     | 35.65      | \n",
       "\n",
       "\n"
      ],
      "text/plain": [
       "  seqs     category   community database   proportion\n",
       "1 27412288 classified 1002314   GTDB       76.46     \n",
       "2 20951737 classified 1002314   proGenomes 58.44     \n",
       "3 15580619 classified 1002314   RefSeq     43.46     \n",
       "4 34683189 classified 1002317   GTDB       71.20     \n",
       "5 28770535 classified 1002317   proGenomes 59.06     \n",
       "6 17366796 classified 1002317   RefSeq     35.65     "
      ]
     },
     "metadata": {},
     "output_type": "display_data"
    }
   ],
   "source": [
    "kraken_classified = kraken_classified_complete %>% \n",
    "    group_by(database, community) %>%\n",
    "    mutate(sum = sum(seqs)) %>% \n",
    "    ungroup %>%\n",
    "    mutate(proportion = round((seqs/sum)* 100, 2)) %>%\n",
    "    select(-sum) %>%\n",
    "    filter(category == \"classified\") %>%\n",
    "    arrange(community, -proportion) %>%\n",
    "    mutate(database = fct_recode(database, RefSeq = \"defaults\", proGenomes = \"progenomes\")) %>%\n",
    "    mutate(database = fct_relevel(database, c(\"RefSeq\", \"proGenomes\", \"GTDB\")))\n",
    "kraken_classified %>% head"
   ]
  },
  {
   "cell_type": "markdown",
   "metadata": {},
   "source": [
    "## Read Bracken logs"
   ]
  },
  {
   "cell_type": "code",
   "execution_count": 7,
   "metadata": {
    "ExecuteTime": {
     "end_time": "2019-09-11T08:30:10.128887Z",
     "start_time": "2019-09-11T08:29:46.029Z"
    }
   },
   "outputs": [],
   "source": [
    "# Kraken proportion of reads mapped\n",
    "database = c(\"GTDB\", \"progenomes\", \"defaults\")\n",
    "bracken_logs = map(database, \n",
    "                  function(x) file.path(work_dir, x, \"logs/bracken\") %>% \n",
    "                  list.files(., full.names = T)) %>% unlist"
   ]
  },
  {
   "cell_type": "code",
   "execution_count": 8,
   "metadata": {
    "ExecuteTime": {
     "end_time": "2019-09-11T08:30:10.155778Z",
     "start_time": "2019-09-11T08:29:46.031Z"
    }
   },
   "outputs": [],
   "source": [
    "read_blog = function(path){\n",
    "    \n",
    "    # Synth community name\n",
    "    community_name = path %>%\n",
    "        basename %>%\n",
    "        str_replace(., \".log\", \"\")\n",
    "\n",
    "    # Database\n",
    "    db = path %>%\n",
    "        str_split(\"/\", simplify = T) %>%\n",
    "        nth(8)\n",
    "    \n",
    "    \n",
    "    # Read file line by line\n",
    "    # Keep lines with total and used reads at the species level\n",
    "    # create table with data for each sample\n",
    "    readLines(path) %>%\n",
    "        data.frame(txt = .) %>%\n",
    "        filter(str_detect(txt,\" Total reads in sample\") | str_detect(txt,\"Total reads kept\")) %>%\n",
    "        separate(txt, into = c(\"txt\", \"seqs\"), sep = \":\") %>%\n",
    "        select(\"seqs\") %>% \n",
    "        mutate(seqs = as.numeric(seqs), \n",
    "               category = c(\"Total\", \"Used\"), \n",
    "               community = rep(community_name, 2), \n",
    "               database = rep(db, 2))\n",
    "}"
   ]
  },
  {
   "cell_type": "code",
   "execution_count": 9,
   "metadata": {
    "ExecuteTime": {
     "end_time": "2019-09-11T08:30:44.080502Z",
     "start_time": "2019-09-11T08:29:46.034Z"
    }
   },
   "outputs": [
    {
     "data": {
      "text/html": [
       "<table>\n",
       "<thead><tr><th scope=col>seqs</th><th scope=col>category</th><th scope=col>community</th><th scope=col>database</th></tr></thead>\n",
       "<tbody>\n",
       "\t<tr><td>35850304  </td><td>Total     </td><td>1002314   </td><td>GTDB      </td></tr>\n",
       "\t<tr><td>21843126  </td><td>Used      </td><td>1002314   </td><td>GTDB      </td></tr>\n",
       "\t<tr><td>35850304  </td><td>Total     </td><td>1002314   </td><td>proGenomes</td></tr>\n",
       "\t<tr><td>18541042  </td><td>Used      </td><td>1002314   </td><td>proGenomes</td></tr>\n",
       "\t<tr><td>35850304  </td><td>Total     </td><td>1002314   </td><td>RefSeq    </td></tr>\n",
       "\t<tr><td>13956784  </td><td>Used      </td><td>1002314   </td><td>RefSeq    </td></tr>\n",
       "</tbody>\n",
       "</table>\n"
      ],
      "text/latex": [
       "\\begin{tabular}{r|llll}\n",
       " seqs & category & community & database\\\\\n",
       "\\hline\n",
       "\t 35850304   & Total      & 1002314    & GTDB      \\\\\n",
       "\t 21843126   & Used       & 1002314    & GTDB      \\\\\n",
       "\t 35850304   & Total      & 1002314    & proGenomes\\\\\n",
       "\t 18541042   & Used       & 1002314    & proGenomes\\\\\n",
       "\t 35850304   & Total      & 1002314    & RefSeq    \\\\\n",
       "\t 13956784   & Used       & 1002314    & RefSeq    \\\\\n",
       "\\end{tabular}\n"
      ],
      "text/markdown": [
       "\n",
       "seqs | category | community | database | \n",
       "|---|---|---|---|---|---|\n",
       "| 35850304   | Total      | 1002314    | GTDB       | \n",
       "| 21843126   | Used       | 1002314    | GTDB       | \n",
       "| 35850304   | Total      | 1002314    | proGenomes | \n",
       "| 18541042   | Used       | 1002314    | proGenomes | \n",
       "| 35850304   | Total      | 1002314    | RefSeq     | \n",
       "| 13956784   | Used       | 1002314    | RefSeq     | \n",
       "\n",
       "\n"
      ],
      "text/plain": [
       "  seqs     category community database  \n",
       "1 35850304 Total    1002314   GTDB      \n",
       "2 21843126 Used     1002314   GTDB      \n",
       "3 35850304 Total    1002314   proGenomes\n",
       "4 18541042 Used     1002314   proGenomes\n",
       "5 35850304 Total    1002314   RefSeq    \n",
       "6 13956784 Used     1002314   RefSeq    "
      ]
     },
     "metadata": {},
     "output_type": "display_data"
    }
   ],
   "source": [
    "bracken_used_complete = map_df(bracken_logs, function(x) read_blog(x)) %>% \n",
    "    arrange(community) %>%\n",
    "    mutate(database = fct_recode(database, RefSeq = \"defaults\", proGenomes = \"progenomes\")) %>%\n",
    "    mutate(database = fct_relevel(database, c(\"RefSeq\", \"proGenomes\", \"GTDB\")))\n",
    "                           \n",
    "bracken_used_complete %>% head"
   ]
  },
  {
   "cell_type": "markdown",
   "metadata": {},
   "source": [
    "## Bracken species table"
   ]
  },
  {
   "cell_type": "code",
   "execution_count": 10,
   "metadata": {
    "ExecuteTime": {
     "end_time": "2019-09-11T08:30:44.105641Z",
     "start_time": "2019-09-11T08:29:46.036Z"
    }
   },
   "outputs": [],
   "source": [
    "bracken_tables = function(file_path){\n",
    "    tax_levels = c(\"Domain\", \"Phylum\", \"Class\",\n",
    "                   \"Orden\", \"Family\", \"Genus\", \"Species\")\n",
    "    \n",
    "    id_ranks = c(\"id_cellular\", \"id_Domain\", \"id_Phylum\", \"id_Class\",\n",
    "               \"id_Order\", \"id_Family\", \"id_Genus\",\n",
    "               \"id_Species\")  \n",
    "    \n",
    "    # Read table, select columns and separate taxonomy\n",
    "    tbl_raw = read_delim(file_path, delim = \"\\t\") %>%\n",
    "        select(-c(name, taxonomy_lvl)) %>%\n",
    "        separate(taxonomy, into = tax_levels, sep = \";\") %>%\n",
    "        separate(taxIDs, into = id_ranks, sep = \";\") %>%\n",
    "        select(-id_cellular)\n",
    "        \n",
    "    \n",
    "    # Create fractiion and count tables\n",
    "    # Raw counts\n",
    "    tbl_count = tbl_raw %>% \n",
    "        select(-ends_with(\"_frac\"))\n",
    "    \n",
    "    # Relative abudnances\n",
    "    tbl_fraction = tbl_raw %>% \n",
    "        select(-ends_with(\"_num\")) \n",
    "    \n",
    "    percentages = tbl_fraction %>% \n",
    "        select(ends_with(\"_frac\")) %>%\n",
    "        (function(x) (x * 100))\n",
    "         \n",
    "    tbl_fraction = tbl_fraction %>% \n",
    "        select(-ends_with(\"_frac\")) %>%\n",
    "        bind_cols(percentages)\n",
    "        \n",
    "    \n",
    "    list(relabund = tbl_fraction, count = tbl_count)\n",
    "}"
   ]
  },
  {
   "cell_type": "code",
   "execution_count": 11,
   "metadata": {
    "ExecuteTime": {
     "end_time": "2019-09-11T08:30:44.141165Z",
     "start_time": "2019-09-11T08:29:46.039Z"
    }
   },
   "outputs": [],
   "source": [
    "# Paths\n",
    "defaults_bracken_path = file.path(work_dir, \"defaults/kraken/all-combined-bracken.tsv\")\n",
    "progenomes_bracken_path = file.path(work_dir, \"progenomes/kraken/all-combined-bracken.tsv\")\n",
    "gtdb_bracken_path = file.path(work_dir, \"GTDB/kraken/all-combined-bracken.tsv\")"
   ]
  },
  {
   "cell_type": "code",
   "execution_count": 12,
   "metadata": {
    "ExecuteTime": {
     "end_time": "2019-09-11T08:31:04.257102Z",
     "start_time": "2019-09-11T08:29:46.041Z"
    }
   },
   "outputs": [
    {
     "name": "stderr",
     "output_type": "stream",
     "text": [
      "Parsed with column specification:\n",
      "cols(\n",
      "  .default = col_integer(),\n",
      "  name = col_character(),\n",
      "  taxonomy_lvl = col_character(),\n",
      "  taxonomy = col_character(),\n",
      "  taxIDs = col_character(),\n",
      "  `1002324_frac` = col_double(),\n",
      "  `1002325_frac` = col_double(),\n",
      "  `1002317_frac` = col_double(),\n",
      "  `1002331_frac` = col_double(),\n",
      "  `1002336_frac` = col_double(),\n",
      "  `1002337_frac` = col_double(),\n",
      "  `1002314_frac` = col_double(),\n",
      "  `1002345_frac` = col_double(),\n",
      "  `1002370_frac` = col_double(),\n",
      "  `1002335_frac` = col_double(),\n",
      "  `1002360_frac` = col_double(),\n",
      "  `1002361_frac` = col_double(),\n",
      "  `1002364_frac` = col_double(),\n",
      "  `1002365_frac` = col_double(),\n",
      "  `1002373_frac` = col_double(),\n",
      "  `1002357_frac` = col_double()\n",
      "  # ... with 234 more columns\n",
      ")\n",
      "See spec(...) for full column specifications.\n",
      "Warning message:\n",
      "“Too many values at 2583 locations: 2, 4, 9, 10, 11, 13, 15, 17, 18, 19, 21, 22, 23, 25, 27, 30, 31, 32, 34, 35, ...”Warning message:\n",
      "“Too few values at 69 locations: 237, 268, 345, 400, 420, 463, 478, 529, 662, 766, 808, 924, 947, 1054, 1065, 1215, 1266, 1388, 1584, 1731, ...”Parsed with column specification:\n",
      "cols(\n",
      "  .default = col_integer(),\n",
      "  name = col_character(),\n",
      "  taxonomy_lvl = col_character(),\n",
      "  taxonomy = col_character(),\n",
      "  taxIDs = col_character(),\n",
      "  `1002324_frac` = col_double(),\n",
      "  `1002325_frac` = col_double(),\n",
      "  `1002317_frac` = col_double(),\n",
      "  `1002331_frac` = col_double(),\n",
      "  `1002336_frac` = col_double(),\n",
      "  `1002337_frac` = col_double(),\n",
      "  `1002314_frac` = col_double(),\n",
      "  `1002345_frac` = col_double(),\n",
      "  `1002370_frac` = col_double(),\n",
      "  `1002335_frac` = col_double(),\n",
      "  `1002360_frac` = col_double(),\n",
      "  `1002361_frac` = col_double(),\n",
      "  `1002364_frac` = col_double(),\n",
      "  `1002365_frac` = col_double(),\n",
      "  `1002373_frac` = col_double(),\n",
      "  `1002357_frac` = col_double()\n",
      "  # ... with 234 more columns\n",
      ")\n",
      "See spec(...) for full column specifications.\n",
      "Warning message:\n",
      "“Too many values at 3089 locations: 1, 3, 4, 5, 7, 8, 9, 10, 11, 14, 15, 16, 19, 20, 21, 22, 24, 25, 28, 29, ...”Warning message:\n",
      "“Too few values at 121 locations: 12, 18, 45, 59, 69, 72, 90, 248, 267, 284, 366, 506, 525, 599, 601, 645, 687, 701, 713, 731, ...”Parsed with column specification:\n",
      "cols(\n",
      "  .default = col_integer(),\n",
      "  name = col_character(),\n",
      "  taxonomy_lvl = col_character(),\n",
      "  taxonomy = col_character(),\n",
      "  taxIDs = col_character(),\n",
      "  `1002324_frac` = col_double(),\n",
      "  `1002325_frac` = col_double(),\n",
      "  `1002317_frac` = col_double(),\n",
      "  `1002331_frac` = col_double(),\n",
      "  `1002336_frac` = col_double(),\n",
      "  `1002337_frac` = col_double(),\n",
      "  `1002314_frac` = col_double(),\n",
      "  `1002345_frac` = col_double(),\n",
      "  `1002370_frac` = col_double(),\n",
      "  `1002335_frac` = col_double(),\n",
      "  `1002360_frac` = col_double(),\n",
      "  `1002361_frac` = col_double(),\n",
      "  `1002364_frac` = col_double(),\n",
      "  `1002365_frac` = col_double(),\n",
      "  `1002373_frac` = col_double(),\n",
      "  `1002357_frac` = col_double()\n",
      "  # ... with 234 more columns\n",
      ")\n",
      "See spec(...) for full column specifications.\n",
      "Warning message:\n",
      "“Too many values at 9009 locations: 1, 2, 3, 4, 5, 6, 7, 8, 10, 11, 13, 14, 15, 17, 19, 20, 21, 23, 24, 27, ...”Warning message:\n",
      "“Too few values at 1449 locations: 32, 36, 41, 43, 52, 80, 88, 90, 129, 131, 133, 148, 159, 171, 176, 178, 204, 211, 212, 213, ...”"
     ]
    }
   ],
   "source": [
    "# Defaults\n",
    "bracken_defaults = bracken_tables(defaults_bracken_path)\n",
    "defaults_relabund = bracken_defaults$relabund\n",
    "\n",
    "# progenomes\n",
    "bracken_progenomes = bracken_tables(progenomes_bracken_path)\n",
    "progenomes_relabund = bracken_progenomes$relabund\n",
    "\n",
    "# gtdb\n",
    "bracken_gtdb = bracken_tables(gtdb_bracken_path)\n",
    "gtdb_relabund = bracken_gtdb$relabund"
   ]
  },
  {
   "cell_type": "markdown",
   "metadata": {},
   "source": [
    "## Read HUMANn2 Files"
   ]
  },
  {
   "cell_type": "markdown",
   "metadata": {},
   "source": [
    "### Read HUMANn2 Logs"
   ]
  },
  {
   "cell_type": "code",
   "execution_count": 13,
   "metadata": {
    "ExecuteTime": {
     "end_time": "2019-09-11T08:31:04.284235Z",
     "start_time": "2019-09-11T08:29:46.045Z"
    }
   },
   "outputs": [],
   "source": [
    "read_hlog = function(path){\n",
    "    \n",
    "    # Synth community name\n",
    "    community_name = path %>%\n",
    "        basename %>%\n",
    "        str_replace(., \".log\", \"\")\n",
    "\n",
    "    # Database\n",
    "    db = path %>%\n",
    "        str_split(\"/\", simplify = T) %>%\n",
    "        nth(8)\n",
    "    \n",
    "    \n",
    "    # Read file line by line\n",
    "    # Keep lines with total and used reads at the species level\n",
    "    # create table with data for each sample\n",
    "    grep_cmd = glue('grep \"Unaligned reads after\" {path}', path = path)\n",
    "    system(grep_cmd, intern = T) %>% \n",
    "        data.frame(txt = .) %>%\n",
    "        separate(txt, into = c(\"Stamp\", \"txt\", \"unmapped\"), sep = \": \") %>%\n",
    "        select(\"unmapped\") %>%\n",
    "        mutate(unmapped = str_replace(unmapped, \" %\", \"\")) %>%\n",
    "        mutate(unmapped = as.numeric(unmapped), \n",
    "               category = c(\"Nucleotide\", \"Translated\"), \n",
    "               community = rep(community_name, 2), \n",
    "               database = rep(db, 2))\n",
    "}"
   ]
  },
  {
   "cell_type": "code",
   "execution_count": 14,
   "metadata": {
    "ExecuteTime": {
     "end_time": "2019-09-11T08:31:04.529241Z",
     "start_time": "2019-09-11T08:29:46.047Z"
    }
   },
   "outputs": [],
   "source": [
    "# Humann2 proportion of reads unmapped\n",
    "database = c(\"GTDB\", \"progenomes\", \"defaults\")\n",
    "humann_logs = map(database, \n",
    "                  function(x) file.path(work_dir, x, \"logs/humann2\") %>% \n",
    "                  list.files(., full.names = T)) %>% unlist"
   ]
  },
  {
   "cell_type": "code",
   "execution_count": 15,
   "metadata": {
    "ExecuteTime": {
     "end_time": "2019-09-11T08:32:12.264556Z",
     "start_time": "2019-09-11T08:29:46.050Z"
    }
   },
   "outputs": [
    {
     "data": {
      "text/html": [
       "<table>\n",
       "<thead><tr><th scope=col>category</th><th scope=col>community</th><th scope=col>database</th><th scope=col>proportion</th></tr></thead>\n",
       "<tbody>\n",
       "\t<tr><td>Nucleotide</td><td>1002314   </td><td>GTDB      </td><td>47.01166  </td></tr>\n",
       "\t<tr><td>Translated</td><td>1002314   </td><td>GTDB      </td><td>62.29373  </td></tr>\n",
       "\t<tr><td>Nucleotide</td><td>1002314   </td><td>proGenomes</td><td>36.50766  </td></tr>\n",
       "\t<tr><td>Translated</td><td>1002314   </td><td>proGenomes</td><td>60.25509  </td></tr>\n",
       "\t<tr><td>Nucleotide</td><td>1002314   </td><td>ChocoPhlAn</td><td>35.05546  </td></tr>\n",
       "\t<tr><td>Translated</td><td>1002314   </td><td>ChocoPhlAn</td><td>61.61920  </td></tr>\n",
       "</tbody>\n",
       "</table>\n"
      ],
      "text/latex": [
       "\\begin{tabular}{r|llll}\n",
       " category & community & database & proportion\\\\\n",
       "\\hline\n",
       "\t Nucleotide & 1002314    & GTDB       & 47.01166  \\\\\n",
       "\t Translated & 1002314    & GTDB       & 62.29373  \\\\\n",
       "\t Nucleotide & 1002314    & proGenomes & 36.50766  \\\\\n",
       "\t Translated & 1002314    & proGenomes & 60.25509  \\\\\n",
       "\t Nucleotide & 1002314    & ChocoPhlAn & 35.05546  \\\\\n",
       "\t Translated & 1002314    & ChocoPhlAn & 61.61920  \\\\\n",
       "\\end{tabular}\n"
      ],
      "text/markdown": [
       "\n",
       "category | community | database | proportion | \n",
       "|---|---|---|---|---|---|\n",
       "| Nucleotide | 1002314    | GTDB       | 47.01166   | \n",
       "| Translated | 1002314    | GTDB       | 62.29373   | \n",
       "| Nucleotide | 1002314    | proGenomes | 36.50766   | \n",
       "| Translated | 1002314    | proGenomes | 60.25509   | \n",
       "| Nucleotide | 1002314    | ChocoPhlAn | 35.05546   | \n",
       "| Translated | 1002314    | ChocoPhlAn | 61.61920   | \n",
       "\n",
       "\n"
      ],
      "text/plain": [
       "  category   community database   proportion\n",
       "1 Nucleotide 1002314   GTDB       47.01166  \n",
       "2 Translated 1002314   GTDB       62.29373  \n",
       "3 Nucleotide 1002314   proGenomes 36.50766  \n",
       "4 Translated 1002314   proGenomes 60.25509  \n",
       "5 Nucleotide 1002314   ChocoPhlAn 35.05546  \n",
       "6 Translated 1002314   ChocoPhlAn 61.61920  "
      ]
     },
     "metadata": {},
     "output_type": "display_data"
    }
   ],
   "source": [
    "human_unmapped = map_df(humann_logs, function(x) read_hlog(x)) %>% \n",
    "    arrange(community) %>%\n",
    "    mutate(database = fct_recode(database, ChocoPhlAn = \"defaults\", proGenomes = \"progenomes\")) %>%\n",
    "    mutate(database = fct_relevel(database, c(\"ChocoPhlAn\", \"proGenomes\", \"GTDB\")))\n",
    "                      \n",
    "human_mapped = human_unmapped %>%\n",
    "    mutate(proportion = 100 - unmapped) %>%\n",
    "    select(-unmapped) \n",
    "                        \n",
    "human_mapped %>% head"
   ]
  },
  {
   "cell_type": "markdown",
   "metadata": {},
   "source": [
    "# Assessment of results"
   ]
  },
  {
   "cell_type": "markdown",
   "metadata": {},
   "source": [
    "## Tax Profile"
   ]
  },
  {
   "cell_type": "markdown",
   "metadata": {},
   "source": [
    "### Kraken - proportion of mapped reads"
   ]
  },
  {
   "cell_type": "code",
   "execution_count": 16,
   "metadata": {
    "ExecuteTime": {
     "end_time": "2019-09-11T08:32:12.402006Z",
     "start_time": "2019-09-11T08:29:46.053Z"
    }
   },
   "outputs": [
    {
     "data": {
      "text/html": [
       "<table>\n",
       "<thead><tr><th scope=col>database</th><th scope=col>mean</th><th scope=col>sd</th></tr></thead>\n",
       "<tbody>\n",
       "\t<tr><td>RefSeq    </td><td>43.12444  </td><td>11.354195 </td></tr>\n",
       "\t<tr><td>proGenomes</td><td>60.54368  </td><td>12.548034 </td></tr>\n",
       "\t<tr><td>GTDB      </td><td>79.90020  </td><td> 5.742625 </td></tr>\n",
       "</tbody>\n",
       "</table>\n"
      ],
      "text/latex": [
       "\\begin{tabular}{r|lll}\n",
       " database & mean & sd\\\\\n",
       "\\hline\n",
       "\t RefSeq     & 43.12444   & 11.354195 \\\\\n",
       "\t proGenomes & 60.54368   & 12.548034 \\\\\n",
       "\t GTDB       & 79.90020   &  5.742625 \\\\\n",
       "\\end{tabular}\n"
      ],
      "text/markdown": [
       "\n",
       "database | mean | sd | \n",
       "|---|---|---|\n",
       "| RefSeq     | 43.12444   | 11.354195  | \n",
       "| proGenomes | 60.54368   | 12.548034  | \n",
       "| GTDB       | 79.90020   |  5.742625  | \n",
       "\n",
       "\n"
      ],
      "text/plain": [
       "  database   mean     sd       \n",
       "1 RefSeq     43.12444 11.354195\n",
       "2 proGenomes 60.54368 12.548034\n",
       "3 GTDB       79.90020  5.742625"
      ]
     },
     "metadata": {},
     "output_type": "display_data"
    }
   ],
   "source": [
    "# Summary of mapped reads per database\n",
    "kraken_classified %>%\n",
    "    group_by(database) %>% \n",
    "    summarise(mean = mean(proportion), sd = sd(proportion))"
   ]
  },
  {
   "cell_type": "code",
   "execution_count": 17,
   "metadata": {
    "ExecuteTime": {
     "end_time": "2019-09-11T08:32:12.446325Z",
     "start_time": "2019-09-11T08:29:46.056Z"
    }
   },
   "outputs": [
    {
     "data": {
      "text/html": [
       "<table>\n",
       "<thead><tr><th scope=col>seqs</th><th scope=col>category</th><th scope=col>community</th><th scope=col>database</th><th scope=col>proportion</th></tr></thead>\n",
       "<tbody>\n",
       "\t<tr><td>27412288  </td><td>classified</td><td>1002314   </td><td>GTDB      </td><td>76.46     </td></tr>\n",
       "\t<tr><td>20951737  </td><td>classified</td><td>1002314   </td><td>proGenomes</td><td>58.44     </td></tr>\n",
       "\t<tr><td>15580619  </td><td>classified</td><td>1002314   </td><td>RefSeq    </td><td>43.46     </td></tr>\n",
       "\t<tr><td>34683189  </td><td>classified</td><td>1002317   </td><td>GTDB      </td><td>71.20     </td></tr>\n",
       "\t<tr><td>28770535  </td><td>classified</td><td>1002317   </td><td>proGenomes</td><td>59.06     </td></tr>\n",
       "\t<tr><td>17366796  </td><td>classified</td><td>1002317   </td><td>RefSeq    </td><td>35.65     </td></tr>\n",
       "</tbody>\n",
       "</table>\n"
      ],
      "text/latex": [
       "\\begin{tabular}{r|lllll}\n",
       " seqs & category & community & database & proportion\\\\\n",
       "\\hline\n",
       "\t 27412288   & classified & 1002314    & GTDB       & 76.46     \\\\\n",
       "\t 20951737   & classified & 1002314    & proGenomes & 58.44     \\\\\n",
       "\t 15580619   & classified & 1002314    & RefSeq     & 43.46     \\\\\n",
       "\t 34683189   & classified & 1002317    & GTDB       & 71.20     \\\\\n",
       "\t 28770535   & classified & 1002317    & proGenomes & 59.06     \\\\\n",
       "\t 17366796   & classified & 1002317    & RefSeq     & 35.65     \\\\\n",
       "\\end{tabular}\n"
      ],
      "text/markdown": [
       "\n",
       "seqs | category | community | database | proportion | \n",
       "|---|---|---|---|---|---|\n",
       "| 27412288   | classified | 1002314    | GTDB       | 76.46      | \n",
       "| 20951737   | classified | 1002314    | proGenomes | 58.44      | \n",
       "| 15580619   | classified | 1002314    | RefSeq     | 43.46      | \n",
       "| 34683189   | classified | 1002317    | GTDB       | 71.20      | \n",
       "| 28770535   | classified | 1002317    | proGenomes | 59.06      | \n",
       "| 17366796   | classified | 1002317    | RefSeq     | 35.65      | \n",
       "\n",
       "\n"
      ],
      "text/plain": [
       "  seqs     category   community database   proportion\n",
       "1 27412288 classified 1002314   GTDB       76.46     \n",
       "2 20951737 classified 1002314   proGenomes 58.44     \n",
       "3 15580619 classified 1002314   RefSeq     43.46     \n",
       "4 34683189 classified 1002317   GTDB       71.20     \n",
       "5 28770535 classified 1002317   proGenomes 59.06     \n",
       "6 17366796 classified 1002317   RefSeq     35.65     "
      ]
     },
     "metadata": {},
     "output_type": "display_data"
    }
   ],
   "source": [
    "kraken_classified %>% head"
   ]
  },
  {
   "cell_type": "code",
   "execution_count": 18,
   "metadata": {
    "ExecuteTime": {
     "end_time": "2019-09-11T08:32:17.464318Z",
     "start_time": "2019-09-11T08:29:46.059Z"
    }
   },
   "outputs": [
    {
     "data": {
      "image/png": "[encoded data removed]",
      "text/plain": [
       "plot without title"
      ]
     },
     "metadata": {},
     "output_type": "display_data"
    }
   ],
   "source": [
    "options(repr.plot.width = 4, repr.plot.height = 5)\n",
    "\n",
    "k_plt = kraken_classified %>%\n",
    "    ggplot(aes(x = database, y = (proportion))) +\n",
    "        geom_jitter(position=position_jitter(0.1), aes(alpha = 0.01), color = \"#A9A9A9\") +\n",
    "        stat_summary(fun.data=mean_sdl, geom=\"pointrange\", color=\"black\") +\n",
    "        theme_light() +\n",
    "        theme(axis.text.x = element_text(angle = 45, hjust = 1, size = 15),\n",
    "              axis.text.y = element_text(size = 12), \n",
    "              axis.title.y = element_text(size = 15),\n",
    "              legend.position = \"none\") +\n",
    "        labs(x = \"Database\", y = \"Mapped reads (%)\", title = \"Kraken\") +\n",
    "        lims(y = c(0,100))\n",
    "\n",
    "\n",
    "plot(k_plt)"
   ]
  },
  {
   "cell_type": "markdown",
   "metadata": {},
   "source": [
    "### Bracken - proportion of used read at species level"
   ]
  },
  {
   "cell_type": "code",
   "execution_count": 19,
   "metadata": {
    "ExecuteTime": {
     "end_time": "2019-09-11T08:32:17.566842Z",
     "start_time": "2019-09-11T08:29:46.063Z"
    }
   },
   "outputs": [
    {
     "data": {
      "text/html": [
       "<table>\n",
       "<thead><tr><th scope=col>community</th><th scope=col>database</th><th scope=col>proportion</th></tr></thead>\n",
       "<tbody>\n",
       "\t<tr><td>1002314   </td><td>GTDB      </td><td>60.92871  </td></tr>\n",
       "\t<tr><td>1002314   </td><td>proGenomes</td><td>51.71795  </td></tr>\n",
       "\t<tr><td>1002314   </td><td>RefSeq    </td><td>38.93073  </td></tr>\n",
       "\t<tr><td>1002317   </td><td>GTDB      </td><td>58.89292  </td></tr>\n",
       "\t<tr><td>1002317   </td><td>proGenomes</td><td>52.17648  </td></tr>\n",
       "\t<tr><td>1002317   </td><td>RefSeq    </td><td>30.66088  </td></tr>\n",
       "</tbody>\n",
       "</table>\n"
      ],
      "text/latex": [
       "\\begin{tabular}{r|lll}\n",
       " community & database & proportion\\\\\n",
       "\\hline\n",
       "\t 1002314    & GTDB       & 60.92871  \\\\\n",
       "\t 1002314    & proGenomes & 51.71795  \\\\\n",
       "\t 1002314    & RefSeq     & 38.93073  \\\\\n",
       "\t 1002317    & GTDB       & 58.89292  \\\\\n",
       "\t 1002317    & proGenomes & 52.17648  \\\\\n",
       "\t 1002317    & RefSeq     & 30.66088  \\\\\n",
       "\\end{tabular}\n"
      ],
      "text/markdown": [
       "\n",
       "community | database | proportion | \n",
       "|---|---|---|---|---|---|\n",
       "| 1002314    | GTDB       | 60.92871   | \n",
       "| 1002314    | proGenomes | 51.71795   | \n",
       "| 1002314    | RefSeq     | 38.93073   | \n",
       "| 1002317    | GTDB       | 58.89292   | \n",
       "| 1002317    | proGenomes | 52.17648   | \n",
       "| 1002317    | RefSeq     | 30.66088   | \n",
       "\n",
       "\n"
      ],
      "text/plain": [
       "  community database   proportion\n",
       "1 1002314   GTDB       60.92871  \n",
       "2 1002314   proGenomes 51.71795  \n",
       "3 1002314   RefSeq     38.93073  \n",
       "4 1002317   GTDB       58.89292  \n",
       "5 1002317   proGenomes 52.17648  \n",
       "6 1002317   RefSeq     30.66088  "
      ]
     },
     "metadata": {},
     "output_type": "display_data"
    }
   ],
   "source": [
    "# Determine the number of reads actually used by Bracken\n",
    "br_total = bracken_used_complete %>% \n",
    "    filter(category == \"Total\") %>%\n",
    "    pull(seqs)\n",
    "\n",
    "br_used = bracken_used_complete %>% \n",
    "    filter(category == \"Used\") %>%\n",
    "    pull(seqs)\n",
    "\n",
    "br_proportion = bracken_used_complete %>% \n",
    "    filter(category == \"Used\") %>%\n",
    "    select(community, database) %>%\n",
    "    mutate(proportion = (br_used /br_total)*100)\n",
    "\n",
    "br_proportion %>% head"
   ]
  },
  {
   "cell_type": "code",
   "execution_count": 20,
   "metadata": {
    "ExecuteTime": {
     "end_time": "2019-09-11T08:32:17.621671Z",
     "start_time": "2019-09-11T08:29:46.065Z"
    }
   },
   "outputs": [
    {
     "data": {
      "text/html": [
       "<table>\n",
       "<thead><tr><th scope=col>database</th><th scope=col>mean</th><th scope=col>sd</th></tr></thead>\n",
       "<tbody>\n",
       "\t<tr><td>RefSeq    </td><td>36.56493  </td><td> 9.341537 </td></tr>\n",
       "\t<tr><td>proGenomes</td><td>51.74847  </td><td>10.767468 </td></tr>\n",
       "\t<tr><td>GTDB      </td><td>66.42228  </td><td> 4.976814 </td></tr>\n",
       "</tbody>\n",
       "</table>\n"
      ],
      "text/latex": [
       "\\begin{tabular}{r|lll}\n",
       " database & mean & sd\\\\\n",
       "\\hline\n",
       "\t RefSeq     & 36.56493   &  9.341537 \\\\\n",
       "\t proGenomes & 51.74847   & 10.767468 \\\\\n",
       "\t GTDB       & 66.42228   &  4.976814 \\\\\n",
       "\\end{tabular}\n"
      ],
      "text/markdown": [
       "\n",
       "database | mean | sd | \n",
       "|---|---|---|\n",
       "| RefSeq     | 36.56493   |  9.341537  | \n",
       "| proGenomes | 51.74847   | 10.767468  | \n",
       "| GTDB       | 66.42228   |  4.976814  | \n",
       "\n",
       "\n"
      ],
      "text/plain": [
       "  database   mean     sd       \n",
       "1 RefSeq     36.56493  9.341537\n",
       "2 proGenomes 51.74847 10.767468\n",
       "3 GTDB       66.42228  4.976814"
      ]
     },
     "metadata": {},
     "output_type": "display_data"
    }
   ],
   "source": [
    "# Summary of used reads per database\n",
    "br_proportion %>%\n",
    "    group_by(database) %>% \n",
    "    summarise(mean = mean(proportion), sd = sd(proportion))"
   ]
  },
  {
   "cell_type": "code",
   "execution_count": 21,
   "metadata": {
    "ExecuteTime": {
     "end_time": "2019-09-11T08:32:19.151452Z",
     "start_time": "2019-09-11T08:29:46.068Z"
    }
   },
   "outputs": [
    {
     "data": {
      "image/png": "[encoded data removed]",
      "text/plain": [
       "plot without title"
      ]
     },
     "metadata": {},
     "output_type": "display_data"
    }
   ],
   "source": [
    "options(repr.plot.width = 4, repr.plot.height = 5)\n",
    "b_plt = br_proportion %>%\n",
    "    ggplot(aes(x = database, y = proportion)) +\n",
    "        geom_jitter(position=position_jitter(0.1), aes(alpha = 0.01), color = \"#A9A9A9\") +\n",
    "        stat_summary(fun.data=mean_sdl, geom=\"pointrange\", color=\"black\") +\n",
    "        theme_light() +\n",
    "        theme(axis.text.x = element_text(angle = 45, hjust = 1, size = 15),\n",
    "              axis.text.y = element_text(size = 12), \n",
    "              axis.title.y = element_text(size = 15),\n",
    "              legend.position = \"none\") +\n",
    "        labs(x = \"Database\", y = \"Mapped reads (%)\", title = \"Bracken\") +\n",
    "        lims(y = c(0,100))\n",
    "\n",
    "\n",
    "plot(b_plt)"
   ]
  },
  {
   "cell_type": "markdown",
   "metadata": {},
   "source": [
    "### Kraken-Bracken Plots"
   ]
  },
  {
   "cell_type": "code",
   "execution_count": 22,
   "metadata": {
    "ExecuteTime": {
     "end_time": "2019-09-11T08:32:20.791065Z",
     "start_time": "2019-09-11T08:29:46.071Z"
    }
   },
   "outputs": [
    {
     "data": {},
     "metadata": {},
     "output_type": "display_data"
    },
    {
     "data": {
      "image/png": "[encoded data removed]",
      "text/plain": [
       "plot without title"
      ]
     },
     "metadata": {},
     "output_type": "display_data"
    }
   ],
   "source": [
    "# Kraken and Bracken mapping\n",
    "options(repr.plot.width = 8, repr.plot.height = 5)\n",
    "plot_grid(k_plt, b_plt, nrow = 1, labels = \"AUTO\")"
   ]
  },
  {
   "cell_type": "markdown",
   "metadata": {},
   "source": [
    "## Functional Profile"
   ]
  },
  {
   "cell_type": "markdown",
   "metadata": {},
   "source": [
    "### HUMANn2 proportion of mapped reads after nucleotide search"
   ]
  },
  {
   "cell_type": "code",
   "execution_count": 23,
   "metadata": {
    "ExecuteTime": {
     "end_time": "2019-09-11T08:32:20.838045Z",
     "start_time": "2019-09-11T08:29:46.075Z"
    }
   },
   "outputs": [],
   "source": [
    "# Translated \n",
    "hmn2_proportion = human_mapped %>%\n",
    "    filter(category == \"Nucleotide\") %>%\n",
    "    select(-category)"
   ]
  },
  {
   "cell_type": "code",
   "execution_count": 24,
   "metadata": {
    "ExecuteTime": {
     "end_time": "2019-09-11T08:32:21.512375Z",
     "start_time": "2019-09-11T08:29:46.077Z"
    }
   },
   "outputs": [
    {
     "data": {
      "image/png": "[encoded data removed]",
      "text/plain": [
       "plot without title"
      ]
     },
     "metadata": {},
     "output_type": "display_data"
    }
   ],
   "source": [
    "options(repr.plot.width = 4, repr.plot.height = 5)\n",
    "hmn2_nuc_plt = hmn2_proportion %>%\n",
    "    ggplot(aes(x = database, y = proportion)) +\n",
    "        geom_jitter(position=position_jitter(0.1), aes(alpha = 0.01), color = \"#A9A9A9\") +\n",
    "        stat_summary(fun.data=mean_sdl, geom=\"pointrange\", color=\"black\") +\n",
    "        theme_light() +\n",
    "        theme(axis.text.x = element_text(angle = 45, hjust = 1, size = 15),\n",
    "              axis.text.y = element_text(size = 12), \n",
    "              axis.title.y = element_text(size = 15),\n",
    "              legend.position = \"none\") +\n",
    "        labs(x = \"Database\", y = \"Mapped reads (%)\", title = \"HUMANn2 - Nucleotide\") +\n",
    "        lims(y = c(0,100))\n",
    "\n",
    "\n",
    "plot(hmn2_nuc_plt)"
   ]
  },
  {
   "cell_type": "markdown",
   "metadata": {},
   "source": [
    "### HUMANn2 proportion of mapped reads after translated search"
   ]
  },
  {
   "cell_type": "code",
   "execution_count": 25,
   "metadata": {
    "ExecuteTime": {
     "end_time": "2019-09-11T08:32:21.558882Z",
     "start_time": "2019-09-11T08:29:46.080Z"
    }
   },
   "outputs": [],
   "source": [
    "# Filter table\n",
    "hmn2_proportion = human_mapped %>%\n",
    "    filter(category == \"Translated\") %>%\n",
    "    select(-category)"
   ]
  },
  {
   "cell_type": "code",
   "execution_count": 26,
   "metadata": {
    "ExecuteTime": {
     "end_time": "2019-09-11T08:32:22.212303Z",
     "start_time": "2019-09-11T08:29:46.083Z"
    }
   },
   "outputs": [
    {
     "data": {
      "image/png": "[encoded data removed]",
      "text/plain": [
       "plot without title"
      ]
     },
     "metadata": {},
     "output_type": "display_data"
    }
   ],
   "source": [
    "options(repr.plot.width = 4, repr.plot.height = 5)\n",
    "hmn2_trns_plt = hmn2_proportion %>%\n",
    "    ggplot(aes(x = database, y = proportion)) +\n",
    "        geom_jitter(position=position_jitter(0.1), aes(alpha = 0.01), color = \"#A9A9A9\") +\n",
    "        stat_summary(fun.data=mean_sdl, geom=\"pointrange\", color=\"black\") +\n",
    "        theme_light() +\n",
    "        theme(axis.text.x = element_text(angle = 45, hjust = 1, size = 15),\n",
    "              axis.text.y = element_text(size = 12), \n",
    "              axis.title.y = element_text(size = 15),\n",
    "              legend.position = \"none\") +\n",
    "        labs(x = \"Database\", y = \"Mapped reads (%)\", title = \"HUMANn2 - Translated\") +\n",
    "        lims(y = c(0,100))\n",
    "\n",
    "\n",
    "plot(hmn2_trns_plt)"
   ]
  },
  {
   "cell_type": "markdown",
   "metadata": {},
   "source": [
    "# All plots combined"
   ]
  },
  {
   "cell_type": "code",
   "execution_count": 27,
   "metadata": {
    "ExecuteTime": {
     "end_time": "2019-09-11T08:32:25.228217Z",
     "start_time": "2019-09-11T08:29:46.085Z"
    }
   },
   "outputs": [
    {
     "data": {},
     "metadata": {},
     "output_type": "display_data"
    },
    {
     "data": {
      "image/png": "[encoded data removed]",
      "text/plain": [
       "plot without title"
      ]
     },
     "metadata": {},
     "output_type": "display_data"
    }
   ],
   "source": [
    "# Kraken and Bracken mapping\n",
    "options(repr.plot.width = 6, repr.plot.height = 9)\n",
    "final_plot = plot_grid(k_plt, b_plt, hmn2_nuc_plt, hmn2_trns_plt, \n",
    "                       nrow = 2, labels = c(\"B\", \"C\", \"D\", \"E\"))\n",
    "final_plot"
   ]
  },
  {
   "cell_type": "code",
   "execution_count": 77,
   "metadata": {
    "ExecuteTime": {
     "end_time": "2019-08-28T08:19:24.700771Z",
     "start_time": "2019-08-28T08:19:22.603Z"
    },
    "deletable": false,
    "editable": false,
    "run_control": {
     "frozen": true
    }
   },
   "outputs": [],
   "source": [
    "# Save plot\n",
    "plot_file = \"./images/BGI250_plot_combined.png\"\n",
    "save_plot(filename = plot_file, plot = final_plot,\n",
    "          base_height = 9, base_width = 6, dpi = 300)"
   ]
  },
  {
   "cell_type": "markdown",
   "metadata": {},
   "source": [
    "# Session Info"
   ]
  },
  {
   "cell_type": "code",
   "execution_count": 28,
   "metadata": {
    "ExecuteTime": {
     "end_time": "2019-09-11T08:32:25.381867Z",
     "start_time": "2019-09-11T08:29:46.088Z"
    }
   },
   "outputs": [
    {
     "data": {
      "text/plain": [
       "R version 3.4.1 (2017-06-30)\n",
       "Platform: x86_64-pc-linux-gnu (64-bit)\n",
       "Running under: Ubuntu 18.04.3 LTS\n",
       "\n",
       "Matrix products: default\n",
       "BLAS: /ebio/abt3_projects/software/miniconda3_gt4.4/envs/UpSetR/lib/R/lib/libRblas.so\n",
       "LAPACK: /ebio/abt3_projects/software/miniconda3_gt4.4/envs/UpSetR/lib/R/lib/libRlapack.so\n",
       "\n",
       "locale:\n",
       "[1] en_US.UTF-8\n",
       "\n",
       "attached base packages:\n",
       "[1] stats     graphics  grDevices utils     datasets  methods   base     \n",
       "\n",
       "other attached packages:\n",
       " [1] bindrcpp_0.2        glue_1.2.0          data.table_1.10.4-3\n",
       " [4] cowplot_0.9.3       forcats_0.2.0       stringr_1.2.0      \n",
       " [7] dplyr_0.7.4         purrr_0.2.4         readr_1.1.1        \n",
       "[10] tidyr_0.7.2         tibble_1.4.1        ggplot2_2.2.1      \n",
       "[13] tidyverse_1.1.1    \n",
       "\n",
       "loaded via a namespace (and not attached):\n",
       " [1] Rcpp_0.12.14        lubridate_1.7.4     lattice_0.20-35    \n",
       " [4] assertthat_0.2.0    digest_0.6.13       IRdisplay_0.4.4    \n",
       " [7] R6_2.2.2            cellranger_1.1.0    plyr_1.8.4         \n",
       "[10] repr_0.15.0         backports_1.1.2     acepack_1.4.1      \n",
       "[13] evaluate_0.10.1     httr_1.2.1          pillar_1.0.1       \n",
       "[16] rlang_0.1.6         lazyeval_0.2.1      uuid_0.1-2         \n",
       "[19] readxl_1.1.0        rpart_4.1-11        Matrix_1.2-14      \n",
       "[22] checkmate_1.8.5     labeling_0.3        splines_3.4.1      \n",
       "[25] foreign_0.8-68      htmlwidgets_0.8     munsell_0.4.3      \n",
       "[28] broom_0.5.0         compiler_3.4.1      modelr_0.1.0       \n",
       "[31] pkgconfig_2.0.1     base64enc_0.1-3     htmltools_0.3.6    \n",
       "[34] nnet_7.3-12         tidyselect_0.2.3    htmlTable_1.9      \n",
       "[37] gridExtra_2.3       Hmisc_4.0-3         crayon_1.3.4       \n",
       "[40] grid_3.4.1          nlme_3.1-131        jsonlite_1.5       \n",
       "[43] gtable_0.2.0        magrittr_1.5        scales_0.5.0       \n",
       "[46] stringi_1.1.6       latticeExtra_0.6-28 xml2_1.1.1         \n",
       "[49] IRkernel_0.8.12     Formula_1.2-1       RColorBrewer_1.1-2 \n",
       "[52] tools_3.4.1         hms_0.4.2           survival_2.42-6    \n",
       "[55] colorspace_1.3-2    cluster_2.0.6       rvest_0.3.2        \n",
       "[58] pbdZMQ_0.3-2        knitr_1.18          bindr_0.1          \n",
       "[61] haven_1.0.0        "
      ]
     },
     "metadata": {},
     "output_type": "display_data"
    }
   ],
   "source": [
    "sessionInfo()"
   ]
  }
 ],
 "metadata": {
  "kernelspec": {
   "display_name": "R [conda env:UpSetR]",
   "language": "R",
   "name": "conda-env-UpSetR-r"
  },
  "language_info": {
   "codemirror_mode": "r",
   "file_extension": ".r",
   "mimetype": "text/x-r-source",
   "name": "R",
   "pygments_lexer": "r",
   "version": "3.4.1"
  },
  "toc": {
   "base_numbering": 1,
   "nav_menu": {},
   "number_sections": true,
   "sideBar": true,
   "skip_h1_title": false,
   "title_cell": "Table of Contents",
   "title_sidebar": "Contents",
   "toc_cell": false,
   "toc_position": {
    "height": "calc(100% - 180px)",
    "left": "10px",
    "top": "150px",
    "width": "349.091px"
   },
   "toc_section_display": true,
   "toc_window_display": true
  }
 },
 "nbformat": 4,
 "nbformat_minor": 2
}
