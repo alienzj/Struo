{
 "cells": [
  {
   "cell_type": "markdown",
   "metadata": {},
   "source": [
    "# Create standard Kraken/Bracken databases\n",
    " \n",
    "The aim of this notebook is to create standard `Kraken 2` and `Bracken 2` databases of RefSeq *Archaea* and *Bacteria* genomes. "
   ]
  },
  {
   "cell_type": "markdown",
   "metadata": {},
   "source": [
    "# Init"
   ]
  },
  {
   "cell_type": "code",
   "execution_count": 1,
   "metadata": {
    "ExecuteTime": {
     "end_time": "2019-04-18T07:31:18.872472Z",
     "start_time": "2019-04-18T07:31:18.865520Z"
    }
   },
   "outputs": [],
   "source": [
    "import os"
   ]
  },
  {
   "cell_type": "markdown",
   "metadata": {},
   "source": [
    "# Var"
   ]
  },
  {
   "cell_type": "code",
   "execution_count": 30,
   "metadata": {
    "ExecuteTime": {
     "end_time": "2019-04-18T12:04:52.680188Z",
     "start_time": "2019-04-18T12:04:52.676492Z"
    }
   },
   "outputs": [],
   "source": [
    "# Conda env\n",
    "Bracken_env = \"Bracken2\""
   ]
  },
  {
   "cell_type": "code",
   "execution_count": 31,
   "metadata": {
    "ExecuteTime": {
     "end_time": "2019-04-18T12:04:53.048186Z",
     "start_time": "2019-04-18T12:04:53.042255Z"
    }
   },
   "outputs": [],
   "source": [
    "# Scripts dir\n",
    "scripts_dir = \"/ebio/abt3_projects/small_projects/jdelacuesta/DBs_benchmark/scripts\"\n",
    "SGE_dir = os.path.join(scripts_dir, \"SGE_out\")\n",
    "if not os.path.exists(scripts_dir):\n",
    "    os.makedirs(scripts_dir)\n",
    "    os.makedirs(SGE_dir)"
   ]
  },
  {
   "cell_type": "code",
   "execution_count": 32,
   "metadata": {
    "ExecuteTime": {
     "end_time": "2019-04-18T12:04:53.728173Z",
     "start_time": "2019-04-18T12:04:53.717119Z"
    }
   },
   "outputs": [],
   "source": [
    "# Kraken dir\n",
    "kraken_dbs = \"/tmp/global/jdelacuesta/standard_DBs/kraken\"\n",
    "if not os.path.exists(kraken_dbs):\n",
    "    os.makedirs(kraken_dbs)"
   ]
  },
  {
   "cell_type": "markdown",
   "metadata": {},
   "source": [
    "# Build standard databases"
   ]
  },
  {
   "cell_type": "markdown",
   "metadata": {},
   "source": [
    "## Kraken"
   ]
  },
  {
   "cell_type": "code",
   "execution_count": 54,
   "metadata": {
    "ExecuteTime": {
     "end_time": "2019-04-19T08:33:57.680211Z",
     "start_time": "2019-04-19T08:33:57.672292Z"
    }
   },
   "outputs": [
    {
     "name": "stdout",
     "output_type": "stream",
     "text": [
      "bash -c \"source activate Bracken2; kraken2-build --download-taxonomy --db /tmp/global/jdelacuesta/standard_DBs/kraken\"\n"
     ]
    }
   ],
   "source": [
    "# Download taxonomy\n",
    "taxonomy_cmd = \"kraken2-build --download-taxonomy --db {k_db}\"\n",
    "taxonomy_job = taxonomy_cmd.format(k_db = kraken_dbs)\n",
    "taxonomy_job = 'bash -c \"source activate {}; {}\"'.format(Bracken_env, taxonomy_job)\n",
    "print(taxonomy_job)"
   ]
  },
  {
   "cell_type": "code",
   "execution_count": 61,
   "metadata": {
    "ExecuteTime": {
     "end_time": "2019-04-19T08:51:48.324239Z",
     "start_time": "2019-04-19T08:49:39.389485Z"
    }
   },
   "outputs": [
    {
     "name": "stdout",
     "output_type": "stream",
     "text": [
      "rsync -ah /ebio/abt3_projects/databases/Kraken/K2_Progenomes/Kraken/taxonomy /tmp/global/jdelacuesta/standard_DBs/kraken\n"
     ]
    }
   ],
   "source": [
    "# If there are errors downloading the taxonomy\n",
    "# Use already dowloaded files\n",
    "NCBI_taxonomy = \"/ebio/abt3_projects/databases/Kraken/K2_Progenomes/Kraken/taxonomy\"\n",
    "rsync_cmd = \"rsync -ah {0} {1}\".format(NCBI_taxonomy, kraken_dbs)\n",
    "\n",
    "# Only sync if there is no taxonomy folder\n",
    "if not os.path.exists(os.path.join(kraken_dbs, \"taxonomy\")): \n",
    "    print(rsync_cmd)\n",
    "    !$rsync_cmd"
   ]
  },
  {
   "cell_type": "code",
   "execution_count": 37,
   "metadata": {
    "ExecuteTime": {
     "end_time": "2019-04-18T12:08:33.548215Z",
     "start_time": "2019-04-18T12:08:33.540928Z"
    }
   },
   "outputs": [
    {
     "name": "stdout",
     "output_type": "stream",
     "text": [
      "bash -c \"source activate Bracken2; kraken2-build --download-library bacteria --db /tmp/global/jdelacuesta/standard_DBs/kraken\"\n",
      "bash -c \"source activate Bracken2; kraken2-build --download-library archaea --db /tmp/global/jdelacuesta/standard_DBs/kraken\"\n"
     ]
    }
   ],
   "source": [
    "# Download Kraken 2 databases\n",
    "download_cmd = \"kraken2-build --download-library {domain} --db {k_db}\"\n",
    "\n",
    "# Download Bacteria DB\n",
    "download_bacteria = download_cmd.format(domain = \"bacteria\", k_db = kraken_dbs)\n",
    "download_bacteria = 'bash -c \"source activate {}; {}\"'.format(Bracken_env, download_bacteria)\n",
    "print(download_bacteria)\n",
    "\n",
    "# Download Archaea DB\n",
    "download_archaea = download_cmd.format(domain = \"archaea\", k_db = kraken_dbs)\n",
    "download_archaea = 'bash -c \"source activate {}; {}\"'.format(Bracken_env, download_archaea)\n",
    "print(download_archaea)"
   ]
  },
  {
   "cell_type": "code",
   "execution_count": 48,
   "metadata": {
    "ExecuteTime": {
     "end_time": "2019-04-19T08:31:15.684215Z",
     "start_time": "2019-04-19T08:31:15.678306Z"
    }
   },
   "outputs": [],
   "source": [
    "# Build the database\n",
    "kraken_build = \"\"\"#!/bin/bash\n",
    "#$ -N {name}\n",
    "#$ -pe parallel {cpu}\n",
    "#$ -l h_vmem=10G\n",
    "#$ -l h_rt=200:0:0\n",
    "#$ -o {SGE_dir}\n",
    "#$ -j y\n",
    "#$ -wd {workdir}\n",
    "#$ -m ea\n",
    "#$ -M jdelacuesta@tuebingen.mpg.de\n",
    "\n",
    "export PATH='/ebio/abt3_projects/software/miniconda3_gt4.4/envs/Bracken2/bin':$PATH\n",
    "/ebio/abt3_projects/software/miniconda3_gt4.4/envs/Bracken/bin/kmer2read_distr\n",
    "\n",
    "kraken2-build --build --db {k_db} --threads {cpu}\n",
    "\"\"\""
   ]
  },
  {
   "cell_type": "code",
   "execution_count": 50,
   "metadata": {
    "ExecuteTime": {
     "end_time": "2019-04-19T08:32:10.228182Z",
     "start_time": "2019-04-19T08:32:10.219044Z"
    }
   },
   "outputs": [
    {
     "name": "stdout",
     "output_type": "stream",
     "text": [
      "#!/bin/bash\n",
      "#$ -N kraken2_build.sh\n",
      "#$ -pe parallel 30\n",
      "#$ -l h_vmem=10G\n",
      "#$ -l h_rt=200:0:0\n",
      "#$ -o /ebio/abt3_projects/small_projects/jdelacuesta/DBs_benchmark/scripts/SGE_out\n",
      "#$ -j y\n",
      "#$ -wd /tmp/global/jdelacuesta/standard_DBs/kraken\n",
      "#$ -m ea\n",
      "#$ -M jdelacuesta@tuebingen.mpg.de\n",
      "\n",
      "export PATH='/ebio/abt3_projects/software/miniconda3_gt4.4/envs/Bracken2/bin':$PATH\n",
      "\n",
      "kraken2-build --build --db /tmp/global/jdelacuesta/standard_DBs/kraken --threads 30\n",
      "\n"
     ]
    }
   ],
   "source": [
    "job_name = \"kraken2_build.sh\"\n",
    "kraken_build_file = os.path.join(scripts_dir, job_name)\n",
    "script_build = kraken_build.format(name = job_name,\n",
    "                                         workdir = kraken_dbs,\n",
    "                                         cpu = 30,\n",
    "                                         k_db = kraken_dbs, \n",
    "                                         SGE_dir = SGE_dir)\n",
    "   \n",
    "print(script_build)\n",
    "\n",
    "with open(kraken_build_file, \"w\") as f:\n",
    "    f.write(script_build) "
   ]
  },
  {
   "cell_type": "code",
   "execution_count": 62,
   "metadata": {
    "ExecuteTime": {
     "end_time": "2019-04-19T08:54:02.392246Z",
     "start_time": "2019-04-19T08:54:02.154040Z"
    }
   },
   "outputs": [
    {
     "name": "stdout",
     "output_type": "stream",
     "text": [
      "Your job 4199461 (\"kraken2_build.sh\") has been submitted\r\n"
     ]
    }
   ],
   "source": [
    "!qsub $kraken_build_file"
   ]
  },
  {
   "cell_type": "markdown",
   "metadata": {},
   "source": [
    "## Bracken"
   ]
  },
  {
   "cell_type": "code",
   "execution_count": 71,
   "metadata": {
    "ExecuteTime": {
     "end_time": "2019-04-21T09:58:49.808346Z",
     "start_time": "2019-04-21T09:58:49.698202Z"
    }
   },
   "outputs": [],
   "source": [
    "# Create output directories\n",
    "dir_100mer = os.path.join(kraken_dbs, \"100mers\")\n",
    "dir_150mer = os.path.join(kraken_dbs, \"150mers\")\n",
    "if not os.path.exists(dir_100mer):\n",
    "    os.makedirs(dir_100mer)\n",
    "    os.makedirs(dir_150mer)"
   ]
  },
  {
   "cell_type": "code",
   "execution_count": 73,
   "metadata": {
    "ExecuteTime": {
     "end_time": "2019-04-21T10:00:46.336383Z",
     "start_time": "2019-04-21T10:00:45.906209Z"
    }
   },
   "outputs": [
    {
     "name": "stdout",
     "output_type": "stream",
     "text": [
      "ln -s ../hash.k2d /tmp/global/jdelacuesta/standard_DBs/kraken/100mers/hash.k2d ln -s ../hash.k2d /tmp/global/jdelacuesta/standard_DBs/kraken/150mers/hash.k2d\n",
      "ln -s ../opts.k2d /tmp/global/jdelacuesta/standard_DBs/kraken/100mers/opts.k2d ln -s ../opts.k2d /tmp/global/jdelacuesta/standard_DBs/kraken/150mers/opts.k2d\n",
      "ln -s ../taxo.k2d /tmp/global/jdelacuesta/standard_DBs/kraken/100mers/taxo.k2d ln -s ../taxo.k2d /tmp/global/jdelacuesta/standard_DBs/kraken/150mers/taxo.k2d\n"
     ]
    }
   ],
   "source": [
    "# Create symlinks to kraken files\n",
    "k2d_files = [\"hash.k2d\",  \"opts.k2d\",  \"taxo.k2d\"]\n",
    "for k2d in k2d_files:\n",
    "    file_path = os.path.join(\"..\", k2d)\n",
    "    link_100mer_path = os.path.join(dir_100mer, k2d)\n",
    "    link_150mer_path = os.path.join(dir_150mer, k2d)\n",
    "    symlink_cmd = 'ln -s {file} {link}'\n",
    "    symlink_100mer_job = symlink_cmd.format(file = file_path, link = link_100mer_path)\n",
    "    symlink_150mer_job = symlink_cmd.format(file = file_path, link = link_150mer_path)\n",
    "    print(symlink_100mer_job, symlink_150mer_job)\n",
    "    !$symlink_100mer_job; $symlink_150mer_job"
   ]
  },
  {
   "cell_type": "code",
   "execution_count": 95,
   "metadata": {
    "ExecuteTime": {
     "end_time": "2019-04-21T10:21:16.912321Z",
     "start_time": "2019-04-21T10:21:16.903324Z"
    }
   },
   "outputs": [],
   "source": [
    "# Build the database\n",
    "bracken_build = \"\"\"#!/bin/bash\n",
    "#$ -N {name}\n",
    "#$ -pe parallel {cpu}\n",
    "#$ -l h_vmem=10G\n",
    "#$ -l h_rt=200:0:0\n",
    "#$ -o {SGE_dir}\n",
    "#$ -j y\n",
    "#$ -wd {workdir}\n",
    "#$ -m ea\n",
    "#$ -M jdelacuesta@tuebingen.mpg.de\n",
    "\n",
    "export PATH='/ebio/abt3_projects/software/miniconda3_gt4.4/envs/Bracken2/bin':$PATH\n",
    "\n",
    "# Create database.kraken\n",
    "kraken2 --db={k_db} --threads={cpu} <( find -L {k_db} \\( -name \"*.fna\" -o -name \"*.fa\" -o -name \"*.fasta\" \\) -exec cat {{}} + ) > {kraken_db_file}\n",
    "\n",
    "# database 100mer\n",
    "# kmer2read\n",
    "{kmer2read} --seqid2taxid {k_db}/seqid2taxid.map \\\n",
    "    --taxonomy {k_db}/taxonomy \\\n",
    "    --kraken {kraken_db_file} \\\n",
    "    --output {output_100mer_2read} \\\n",
    "    -k 35 \\\n",
    "    -l 100 \\\n",
    "    -t {cpu}\n",
    "    \n",
    "# kmer distribution    \n",
    "generate_kmer_distribution.py -i {output_100mer_2read} -o {output_100mer_distr}\n",
    "\n",
    "# database 150mer\n",
    "# kmer2read\n",
    "{kmer2read} --seqid2taxid {k_db}/seqid2taxid.map \\\n",
    "    --taxonomy {k_db}/taxonomy \\\n",
    "    --kraken {kraken_db_file} \\\n",
    "    --output {output_150mer_2read} \\\n",
    "    -k 35 \\\n",
    "    -l 150 \\\n",
    "    -t {cpu}\n",
    "    \n",
    "# kmer distribution    \n",
    "generate_kmer_distribution.py -i {output_150mer_2read} -o {output_150mer_distr}\n",
    "\"\"\""
   ]
  },
  {
   "cell_type": "code",
   "execution_count": 96,
   "metadata": {
    "ExecuteTime": {
     "end_time": "2019-04-21T10:21:18.000277Z",
     "start_time": "2019-04-21T10:21:17.994033Z"
    }
   },
   "outputs": [],
   "source": [
    "# Files and paths\n",
    "kmer2read_path = \"/ebio/abt3_projects/software/miniconda3_gt4.4/envs/Bracken/bin/kmer2read_distr\"\n",
    "\n",
    "kraken_database_file = os.path.join(kraken_dbs, \"database.kraken\")\n",
    "\n",
    "# 100mers\n",
    "k2read_100mer = os.path.join(dir_100mer, \"database100mers.kraken\")\n",
    "k2distr_100mer = os.path.join(dir_100mer, \"database100mers.kmer_distrib\")\n",
    "\n",
    "# 150mers\n",
    "k2read_150mer = os.path.join(dir_150mer, \"database150mers.kraken\")\n",
    "k2distr_150mer = os.path.join(dir_150mer, \"database150mers.kmer_distrib\")"
   ]
  },
  {
   "cell_type": "code",
   "execution_count": 99,
   "metadata": {
    "ExecuteTime": {
     "end_time": "2019-04-21T10:22:21.008306Z",
     "start_time": "2019-04-21T10:22:20.996141Z"
    }
   },
   "outputs": [
    {
     "name": "stdout",
     "output_type": "stream",
     "text": [
      "#!/bin/bash\n",
      "#$ -N bracken2_build.sh\n",
      "#$ -pe parallel 30\n",
      "#$ -l h_vmem=10G\n",
      "#$ -l h_rt=200:0:0\n",
      "#$ -o /ebio/abt3_projects/small_projects/jdelacuesta/DBs_benchmark/scripts/SGE_out\n",
      "#$ -j y\n",
      "#$ -wd /tmp/global/jdelacuesta/standard_DBs/kraken\n",
      "#$ -m ea\n",
      "#$ -M jdelacuesta@tuebingen.mpg.de\n",
      "\n",
      "export PATH='/ebio/abt3_projects/software/miniconda3_gt4.4/envs/Bracken2/bin':$PATH\n",
      "\n",
      "# Create database.kraken\n",
      "kraken2 --db=/tmp/global/jdelacuesta/standard_DBs/kraken --threads=30 <( find -L /tmp/global/jdelacuesta/standard_DBs/kraken \\( -name \"*.fna\" -o -name \"*.fa\" -o -name \"*.fasta\" \\) -exec cat {} + ) > /tmp/global/jdelacuesta/standard_DBs/kraken/database.kraken\n",
      "\n",
      "# database 100mer\n",
      "# kmer2read\n",
      "/ebio/abt3_projects/software/miniconda3_gt4.4/envs/Bracken/bin/kmer2read_distr --seqid2taxid /tmp/global/jdelacuesta/standard_DBs/kraken/seqid2taxid.map     --taxonomy /tmp/global/jdelacuesta/standard_DBs/kraken/taxonomy     --kraken /tmp/global/jdelacuesta/standard_DBs/kraken/database.kraken     --output /tmp/global/jdelacuesta/standard_DBs/kraken/100mers/database100mers.kraken     -k 35     -l 100     -t 30\n",
      "    \n",
      "# kmer distribution    \n",
      "generate_kmer_distribution.py -i /tmp/global/jdelacuesta/standard_DBs/kraken/100mers/database100mers.kraken -o /tmp/global/jdelacuesta/standard_DBs/kraken/100mers/database100mers.kmer_distrib\n",
      "\n",
      "# database 150mer\n",
      "# kmer2read\n",
      "/ebio/abt3_projects/software/miniconda3_gt4.4/envs/Bracken/bin/kmer2read_distr --seqid2taxid /tmp/global/jdelacuesta/standard_DBs/kraken/seqid2taxid.map     --taxonomy /tmp/global/jdelacuesta/standard_DBs/kraken/taxonomy     --kraken /tmp/global/jdelacuesta/standard_DBs/kraken/database.kraken     --output /tmp/global/jdelacuesta/standard_DBs/kraken/150mers/database150mers.kraken     -k 35     -l 150     -t 30\n",
      "    \n",
      "# kmer distribution    \n",
      "generate_kmer_distribution.py -i /tmp/global/jdelacuesta/standard_DBs/kraken/150mers/database150mers.kraken -o /tmp/global/jdelacuesta/standard_DBs/kraken/150mers/database150mers.kmer_distrib\n",
      "\n"
     ]
    }
   ],
   "source": [
    "job_name = \"bracken2_build.sh\"\n",
    "bracken_build_file = os.path.join(scripts_dir, job_name)\n",
    "script_build = bracken_build.format(name = job_name,\n",
    "                                    workdir = kraken_dbs,\n",
    "                                    cpu = 30,\n",
    "                                    k_db = kraken_dbs, \n",
    "                                    SGE_dir = SGE_dir, \n",
    "                                    kraken_db_file = kraken_database_file, \n",
    "                                    kmer2read = kmer2read_path, \n",
    "                                    output_100mer_2read = k2read_100mer, \n",
    "                                    output_100mer_distr = k2distr_100mer,\n",
    "                                    output_150mer_2read = k2read_150mer, \n",
    "                                    output_150mer_distr = k2distr_150mer)\n",
    "print(script_build)\n",
    "with open(bracken_build_file, \"w\") as f:\n",
    "    f.write(script_build) "
   ]
  },
  {
   "cell_type": "code",
   "execution_count": 100,
   "metadata": {
    "ExecuteTime": {
     "end_time": "2019-04-21T10:25:47.184365Z",
     "start_time": "2019-04-21T10:25:46.998952Z"
    }
   },
   "outputs": [
    {
     "name": "stdout",
     "output_type": "stream",
     "text": [
      "Your job 4216709 (\"bracken2_build.sh\") has been submitted\r\n"
     ]
    }
   ],
   "source": [
    "!qsub $bracken_build_file"
   ]
  },
  {
   "cell_type": "markdown",
   "metadata": {},
   "source": [
    "# Move database to databases folder"
   ]
  },
  {
   "cell_type": "code",
   "execution_count": 105,
   "metadata": {
    "ExecuteTime": {
     "end_time": "2019-04-24T12:13:20.284265Z",
     "start_time": "2019-04-24T11:39:43.695764Z"
    }
   },
   "outputs": [
    {
     "name": "stdout",
     "output_type": "stream",
     "text": [
      "rsync -ah --bwlimit 300m /tmp/global/jdelacuesta/standard_DBs/kraken/ /ebio/abt3_projects/databases/Kraken/K2_Standard\n"
     ]
    }
   ],
   "source": [
    "databases_project = os.path.join(\"/ebio/abt3_projects/databases/Kraken/K2_Standard\")\n",
    "if not os.path.exists(databases_project):\n",
    "    os.makedirs(databases_project)\n",
    "\n",
    "rsync_kraken = \"rsync -ah --bwlimit 300m {0}/ {1}\".format(kraken_dbs, databases_project)\n",
    "print(rsync_kraken)\n",
    "#!$rsync_kraken"
   ]
  },
  {
   "cell_type": "markdown",
   "metadata": {
    "ExecuteTime": {
     "end_time": "2019-04-21T10:31:12.172223Z",
     "start_time": "2019-04-21T10:31:12.163754Z"
    }
   },
   "source": [
    "# Session info"
   ]
  },
  {
   "cell_type": "code",
   "execution_count": 3,
   "metadata": {
    "ExecuteTime": {
     "end_time": "2019-09-11T07:10:19.632261Z",
     "start_time": "2019-09-11T07:10:17.196437Z"
    }
   },
   "outputs": [
    {
     "name": "stdout",
     "output_type": "stream",
     "text": [
      "# packages in environment at /ebio/abt3_projects/software/miniconda3_gt4.4/envs/Bracken2:\r\n",
      "#\r\n",
      "# Name                    Version                   Build  Channel\r\n",
      "appdirs                   1.4.3                      py_1    conda-forge\r\n",
      "asn1crypto                0.24.0                     py_1    conda-forge\r\n",
      "attrs                     18.1.0                     py_1    conda-forge\r\n",
      "automat                   0.7.0                    py36_0    conda-forge\r\n",
      "backcall                  0.1.0                      py_0    conda-forge\r\n",
      "blas                      1.1                    openblas    conda-forge\r\n",
      "blast                     2.7.1                h4422958_6    bioconda\r\n",
      "bleach                    2.1.3                      py_0    conda-forge\r\n",
      "boost                     1.67.0           py36h3e44d54_0    conda-forge\r\n",
      "boost-cpp                 1.67.0               h3a22d5f_0    conda-forge\r\n",
      "bracken                   2.2              py36h2d50403_0    bioconda/label/broken\r\n",
      "bzip2                     1.0.6                h470a237_2    conda-forge\r\n",
      "ca-certificates           2018.4.16                     0    conda-forge\r\n",
      "cairo                     1.14.12              he56eebe_3    conda-forge\r\n",
      "certifi                   2018.4.16                py36_0    conda-forge\r\n",
      "cffi                      1.11.5           py36h5e8e0c9_1    conda-forge\r\n",
      "constantly                15.1.0                     py_0    conda-forge\r\n",
      "cryptography              2.3              py36hdffb7b8_0    conda-forge\r\n",
      "cryptography-vectors      2.3                      py36_1    conda-forge\r\n",
      "curl                      7.61.0               h93b3f91_1    conda-forge\r\n",
      "decorator                 4.3.0                      py_0    conda-forge\r\n",
      "entrypoints               0.2.3                    py36_1    conda-forge\r\n",
      "fontconfig                2.13.0               h0c61d53_4    conda-forge\r\n",
      "freetype                  2.8.1                hfa320df_1    conda-forge\r\n",
      "gettext                   0.19.8.1                      0    conda-forge\r\n",
      "glib                      2.55.0               h464dc38_2    conda-forge\r\n",
      "gmp                       6.1.2                hfc679d8_0    conda-forge\r\n",
      "gnutls                    3.5.19               h2a4e5f8_1    conda-forge\r\n",
      "graphite2                 1.3.11               hfc679d8_0    conda-forge\r\n",
      "gsl                       2.2.1           blas_openblas_4  [blas_openblas]  conda-forge\r\n",
      "harfbuzz                  1.8.5                h2bb21d5_0    conda-forge\r\n",
      "html5lib                  1.0.1                      py_0    conda-forge\r\n",
      "hyperlink                 17.3.1                     py_0    conda-forge\r\n",
      "icu                       58.2                 hfc679d8_0    conda-forge\r\n",
      "idna                      2.7                      py36_2    conda-forge\r\n",
      "incremental               17.5.0                     py_0    conda-forge\r\n",
      "ipykernel                 4.8.2                    py36_0    conda-forge\r\n",
      "ipython                   6.5.0                    py36_0    conda-forge\r\n",
      "ipython_genutils          0.2.0                      py_1    conda-forge\r\n",
      "jedi                      0.12.1                   py36_0    conda-forge\r\n",
      "jellyfish                 1.1.12               h2d50403_0    bioconda\r\n",
      "jinja2                    2.10                       py_1    conda-forge\r\n",
      "jpeg                      9c                   h470a237_0    conda-forge\r\n",
      "jsonschema                2.6.0                    py36_1    conda-forge\r\n",
      "jupyter_client            5.2.3                      py_1    conda-forge\r\n",
      "jupyter_core              4.4.0                      py_0    conda-forge\r\n",
      "kraken                    1.1                  h470a237_2    bioconda\r\n",
      "kraken2                   2.0.7_beta      pl526h2d50403_0    bioconda\r\n",
      "krb5                      1.14.6                        0    conda-forge\r\n",
      "libffi                    3.2.1                         3    conda-forge\r\n",
      "libgcc                    7.2.0                h69d50b8_2  \r\n",
      "libgcc-ng                 7.2.0                hdf63c60_3  \r\n",
      "libgfortran               3.0.0                         1    https://repo.anaconda.com/pkgs/free\r\n",
      "libgfortran-ng            7.2.0                hdf63c60_3  \r\n",
      "libiconv                  1.15                 h470a237_1    conda-forge\r\n",
      "libopenblas               0.2.20               h9ac9557_7  \r\n",
      "libpng                    1.6.35               ha92aebf_0    conda-forge\r\n",
      "libsodium                 1.0.16                        0    conda-forge\r\n",
      "libssh2                   1.8.0                h5b517e9_2    conda-forge\r\n",
      "libstdcxx-ng              7.2.0                hdf63c60_3  \r\n",
      "libtiff                   4.0.9                he6b73bb_1    conda-forge\r\n",
      "libuuid                   1.0.3                         1    conda-forge\r\n",
      "libxcb                    1.13                 h470a237_2    conda-forge\r\n",
      "libxml2                   2.9.8                h422b904_2    conda-forge\r\n",
      "markupsafe                1.0                      py36_0    conda-forge\r\n",
      "mistune                   0.8.3            py36h470a237_2    conda-forge\r\n",
      "nb_conda                  2.2.1                    py36_0    conda-forge\r\n",
      "nb_conda_kernels          2.1.1                    py36_1    conda-forge\r\n",
      "nbconvert                 5.3.1                      py_1    conda-forge\r\n",
      "nbformat                  4.4.0                      py_1    conda-forge\r\n",
      "ncurses                   6.1                  hfc679d8_1    conda-forge\r\n",
      "nettle                    3.3                           0    conda-forge\r\n",
      "notebook                  5.6.0                    py36_0    conda-forge\r\n",
      "numpy                     1.15.0          py36_blas_openblashd3ea46f_200  [blas_openblas]  conda-forge\r\n",
      "numpy-base                1.14.3           py36h0ea5e3f_1  \r\n",
      "openblas                  0.2.20                        8    conda-forge\r\n",
      "openssl                   1.0.2o               h470a237_1    conda-forge\r\n",
      "pandas                    0.23.4           py36hf8a1672_0    conda-forge\r\n",
      "pandoc                    2.2.2                         1    conda-forge\r\n",
      "pandocfilters             1.4.2                      py_1    conda-forge\r\n",
      "pango                     1.40.14              h9105a7a_2    conda-forge\r\n",
      "parso                     0.3.1                      py_0    conda-forge\r\n",
      "pcre                      8.41                 h470a237_2    conda-forge\r\n",
      "perl                      5.26.2               h470a237_0    conda-forge\r\n",
      "perl-archive-tar          2.32                    pl526_0    bioconda\r\n",
      "perl-carp                 1.38                    pl526_1    bioconda\r\n",
      "perl-compress-raw-bzip2   2.081           pl526hfc679d8_0    bioconda\r\n",
      "perl-compress-raw-zlib    2.081           pl526h2d50403_0    bioconda\r\n",
      "perl-data-dumper          2.161                   pl526_2    bioconda\r\n",
      "perl-encode               2.88                    pl526_1    bioconda\r\n",
      "perl-exporter             5.72                    pl526_1    bioconda\r\n",
      "perl-exporter-tiny        1.000000                pl526_0    bioconda\r\n",
      "perl-extutils-makemaker   7.34                    pl526_2    bioconda\r\n",
      "perl-io-compress          2.081           pl526hfc679d8_0    bioconda\r\n",
      "perl-io-zlib              1.10                    pl526_2    bioconda\r\n",
      "perl-list-moreutils       0.428                   pl526_1    bioconda\r\n",
      "perl-list-moreutils-xs    0.428                   pl526_0    bioconda\r\n",
      "perl-parallel-forkmanager 1.17                    pl526_1    bioconda\r\n",
      "perl-parent               0.236                   pl526_1    bioconda\r\n",
      "perl-pathtools            3.73                 h470a237_2    bioconda\r\n",
      "perl-scalar-list-utils    1.45            pl526h470a237_3    bioconda\r\n",
      "perl-test-more            1.001002                pl526_1    bioconda\r\n",
      "perl-xsloader             0.24                    pl526_0    bioconda\r\n",
      "pexpect                   4.6.0                    py36_0    conda-forge\r\n",
      "pickleshare               0.7.4                    py36_0    conda-forge\r\n",
      "pip                       18.0                     py36_1    conda-forge\r\n",
      "pixman                    0.34.0                        2    conda-forge\r\n",
      "prometheus_client         0.3.0                      py_0    conda-forge\r\n",
      "prompt_toolkit            1.0.15                   py36_0    conda-forge\r\n",
      "pthread-stubs             0.4                  h470a237_1    conda-forge\r\n",
      "ptyprocess                0.6.0                    py36_0    conda-forge\r\n",
      "pyasn1                    0.4.4                      py_0    conda-forge\r\n",
      "pyasn1-modules            0.2.1                      py_0    conda-forge\r\n",
      "pycparser                 2.18                       py_1    conda-forge\r\n",
      "pygments                  2.2.0                      py_1    conda-forge\r\n",
      "pyhamcrest                1.9.0                      py_2    conda-forge\r\n",
      "pyopenssl                 18.0.0                   py36_0    conda-forge\r\n",
      "python                    3.6.6                h5001a0f_0    conda-forge\r\n",
      "python-dateutil           2.7.3                      py_0    conda-forge\r\n",
      "pytz                      2018.5                     py_0    conda-forge\r\n",
      "pyzmq                     17.1.0           py36hae99301_0    conda-forge\r\n",
      "r-assertthat              0.2.0                  r3.4.1_0    conda-forge\r\n",
      "r-base                    3.4.1                h4fe35fd_8    conda-forge\r\n",
      "r-base64enc               0.1_3            r341h470a237_1    conda-forge\r\n",
      "r-bh                      1.66.0_1               r3.4.1_0    conda-forge\r\n",
      "r-bindr                   0.1.1                  r3.4.1_0    conda-forge\r\n",
      "r-bindrcpp                0.2.2            r341h9d2a408_0    conda-forge\r\n",
      "r-bit                     1.1_12           r341h470a237_1    conda-forge\r\n",
      "r-bit64                   0.9_5            r341h470a237_1    conda-forge\r\n",
      "r-blob                    1.1.1                  r3.4.1_0    conda-forge\r\n",
      "r-cli                     1.0.0                  r3.4.1_0    conda-forge\r\n",
      "r-crayon                  1.3.4                  r3.4.1_0    conda-forge\r\n",
      "r-dbi                     1.0.0                    r341_0    conda-forge\r\n"
     ]
    },
    {
     "name": "stdout",
     "output_type": "stream",
     "text": [
      "r-dbplyr                  1.2.2                    r341_0    conda-forge\r\n",
      "r-digest                  0.6.15           r341h470a237_1    conda-forge\r\n",
      "r-dplyr                   0.7.6            r341h9d2a408_0    conda-forge\r\n",
      "r-evaluate                0.10.1                 r3.4.1_0    conda-forge\r\n",
      "r-glue                    1.3.0            r341h470a237_1    conda-forge\r\n",
      "r-htmltools               0.3.6            r341hfc679d8_1    conda-forge\r\n",
      "r-irdisplay               0.4.4                  r3.4.1_0    conda-forge\r\n",
      "r-irkernel                0.8.12                   r341_0    conda-forge\r\n",
      "r-jsonlite                1.5              r341h470a237_1    conda-forge\r\n",
      "r-magrittr                1.5                    r3.4.1_0    conda-forge\r\n",
      "r-memoise                 1.1.0                  r3.4.1_0    conda-forge\r\n",
      "r-pbdzmq                  0.3_2                  r3.4.1_0    conda-forge\r\n",
      "r-pillar                  1.2.2            r341h6115d3f_1    conda-forge\r\n",
      "r-pkgconfig               2.0.1                  r3.4.1_0    conda-forge\r\n",
      "r-plogr                   0.2.0            r341h6115d3f_0    conda-forge\r\n",
      "r-prettyunits             1.0.2                  r3.4.1_0    conda-forge\r\n",
      "r-purrr                   0.2.4            r341h470a237_1    conda-forge\r\n",
      "r-r6                      2.2.2                  r3.4.1_0    conda-forge\r\n",
      "r-rcpp                    0.12.17          r341h9d2a408_1    conda-forge\r\n",
      "r-repr                    0.15                     r341_0    conda-forge\r\n",
      "r-rlang                   0.2.1            r341h470a237_1    conda-forge\r\n",
      "r-rsqlite                 2.0              r341hfc679d8_1    conda-forge\r\n",
      "r-stringi                 1.2.3            r341hfc679d8_1    conda-forge\r\n",
      "r-stringr                 1.3.1                    r341_0    conda-forge\r\n",
      "r-tibble                  1.4.2            r341h470a237_1    conda-forge\r\n",
      "r-tidyselect              0.2.4            r341hfc679d8_1    conda-forge\r\n",
      "r-utf8                    1.1.3            r341h470a237_1    conda-forge\r\n",
      "r-uuid                    0.1_2                    r341_0    conda-forge\r\n",
      "readline                  7.0                  haf1bffa_1    conda-forge\r\n",
      "rpy2                      2.9.4           py36r341h24bf2e0_0    conda-forge\r\n",
      "send2trash                1.5.0                      py_0    conda-forge\r\n",
      "service_identity          17.0.0                     py_0    conda-forge\r\n",
      "setuptools                40.0.0                   py36_1    conda-forge\r\n",
      "simplegeneric             0.8.1                      py_1    conda-forge\r\n",
      "six                       1.11.0                   py36_1    conda-forge\r\n",
      "sqlite                    3.24.0               h2f33b56_0    conda-forge\r\n",
      "terminado                 0.8.1                    py36_0    conda-forge\r\n",
      "testpath                  0.3.1                    py36_0    conda-forge\r\n",
      "tk                        8.6.8                         0    conda-forge\r\n",
      "tornado                   5.1              py36h470a237_1    conda-forge\r\n",
      "traitlets                 4.3.2                    py36_0    conda-forge\r\n",
      "twisted                   18.7.0           py36h14c3975_1  \r\n",
      "tzlocal                   1.5.1                      py_0    conda-forge\r\n",
      "wcwidth                   0.1.7                      py_1    conda-forge\r\n",
      "webencodings              0.5                      py36_0    conda-forge\r\n",
      "wheel                     0.31.1                   py36_1    conda-forge\r\n",
      "xorg-kbproto              1.0.7                h470a237_2    conda-forge\r\n",
      "xorg-libice               1.0.9                h470a237_4    conda-forge\r\n",
      "xorg-libsm                1.2.2                h470a237_5    conda-forge\r\n",
      "xorg-libx11               1.6.5                h470a237_2    conda-forge\r\n",
      "xorg-libxau               1.0.8                h470a237_6    conda-forge\r\n",
      "xorg-libxdmcp             1.1.2                h470a237_7    conda-forge\r\n",
      "xorg-libxext              1.3.3                h470a237_4    conda-forge\r\n",
      "xorg-libxrender           0.9.10               h470a237_2    conda-forge\r\n",
      "xorg-libxt                1.1.5                h470a237_2    conda-forge\r\n",
      "xorg-renderproto          0.11.1               h470a237_2    conda-forge\r\n",
      "xorg-xextproto            7.3.0                h470a237_2    conda-forge\r\n",
      "xorg-xproto               7.0.31               h470a237_7    conda-forge\r\n",
      "xz                        5.2.4                h470a237_1    conda-forge\r\n",
      "zeromq                    4.2.5                hfc679d8_5    conda-forge\r\n",
      "zlib                      1.2.11               h470a237_3    conda-forge\r\n",
      "zope.interface            4.5.0            py36h470a237_0    conda-forge\r\n"
     ]
    }
   ],
   "source": [
    "!conda list -n Bracken2"
   ]
  },
  {
   "cell_type": "code",
   "execution_count": null,
   "metadata": {},
   "outputs": [],
   "source": []
  }
 ],
 "metadata": {
  "kernelspec": {
   "display_name": "Python [conda env:py3]",
   "language": "python",
   "name": "conda-env-py3-py"
  },
  "language_info": {
   "codemirror_mode": {
    "name": "ipython",
    "version": 3
   },
   "file_extension": ".py",
   "mimetype": "text/x-python",
   "name": "python",
   "nbconvert_exporter": "python",
   "pygments_lexer": "ipython3",
   "version": "3.6.6"
  },
  "toc": {
   "base_numbering": 1,
   "nav_menu": {},
   "number_sections": true,
   "sideBar": true,
   "skip_h1_title": false,
   "title_cell": "Table of Contents",
   "title_sidebar": "Contents",
   "toc_cell": false,
   "toc_position": {},
   "toc_section_display": true,
   "toc_window_display": false
  }
 },
 "nbformat": 4,
 "nbformat_minor": 2
}
